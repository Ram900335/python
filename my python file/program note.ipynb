{
 "cells": [
  {
   "cell_type": "code",
   "execution_count": null,
   "metadata": {},
   "outputs": [],
   "source": [
    "#program to add two numbers\n",
    "a=int(input(\"enter the first number:\"))\n",
    "b=int(input(\"enter the second number:\"))\n",
    "\n",
    "c=a+b\n",
    "\n",
    "print(c)"
   ]
  },
  {
   "cell_type": "code",
   "execution_count": null,
   "metadata": {},
   "outputs": [],
   "source": [
    "#find the sqare root\n",
    "import math\n",
    "a=int(input(\"enter the number:\"))\n",
    "\n",
    "print(math.sqrt(a))"
   ]
  },
  {
   "cell_type": "code",
   "execution_count": null,
   "metadata": {},
   "outputs": [],
   "source": [
    "#calculate of area of triangle\n",
    "b=int(input(\"enter the number:\"))\n",
    "h=int(input(\"enter the number:\"))\n",
    "\n",
    "a=1/2*b*h\n",
    "\n",
    "print('area of triangle:',a)"
   ]
  },
  {
   "cell_type": "code",
   "execution_count": null,
   "metadata": {},
   "outputs": [],
   "source": [
    "#to solve Quadratic equcation\n",
    "import math\n",
    "\n",
    "a=int(input(\"enter the a:\"))\n",
    "b=int(input(\"enter the b:\"))\n",
    "c=int(input(\"enter the c:\"))\n",
    "x1=(-b+math.sqrt(b**2-(4*a*c)))/2*a\n",
    "x2=(-b-math.sqrt(b**2-(4*a*c)))/2*a\n",
    "print(x1,x2)"
   ]
  },
  {
   "cell_type": "code",
   "execution_count": 2,
   "metadata": {},
   "outputs": [
    {
     "name": "stdout",
     "output_type": "stream",
     "text": [
      "enter the number3\n",
      "prime\n"
     ]
    }
   ],
   "source": [
    "#find given number prime or not prime\n",
    "n=int(input(\"enter the number\"))\n",
    "\n",
    "count=0\n",
    "for x in range(2,n-1):\n",
    "    if n%x==0:\n",
    "        count+=1\n",
    "if count==0:\n",
    "    print('prime')\n",
    "else:\n",
    "    print('non prime')\n",
    "#R=Isprime(n)\n",
    "#if R==True:\n",
    "#    print(n,'Is a prime Number')\n",
    "#else:\n",
    " #   print(n,'Is not a prime number')"
   ]
  },
  {
   "cell_type": "code",
   "execution_count": null,
   "metadata": {},
   "outputs": [],
   "source": [
    "def Isprime(n):\n",
    "    count=0\n",
    "    for x in range(2,n-1):\n",
    "        if n%x==0:\n",
    "            count+=1\n",
    "    if count==0:\n",
    "        return True\n",
    "    else:\n",
    "        return False"
   ]
  },
  {
   "cell_type": "code",
   "execution_count": null,
   "metadata": {},
   "outputs": [],
   "source": [
    "#swap two variable\n",
    "a=int(input(\"enter the number\"))\n",
    "b=int(input(\"enter the number\"))\n",
    "\n",
    "c=a\n",
    "a=b\n",
    "b=c\n",
    "print(\"swap two number\")\n",
    "print(a)\n",
    "print(b)"
   ]
  },
  {
   "cell_type": "code",
   "execution_count": null,
   "metadata": {},
   "outputs": [],
   "source": [
    "#swap two number without using temporary variable\n",
    "a=int(input(\"enter the number\"))\n",
    "b=int(input(\"enter the number\"))\n",
    "\n",
    "a=a^b\n",
    "b=a^b\n",
    "a=a^b\n",
    "print(\"swaping two number\")\n",
    "print(a)\n",
    "print(b)"
   ]
  },
  {
   "cell_type": "code",
   "execution_count": null,
   "metadata": {},
   "outputs": [],
   "source": [
    "#swap two number without causing overflow\n",
    "a=int(input(\"enter the number\"))\n",
    "b=int(input(\"enter the number\"))\n",
    "\n",
    "a=a+b\n",
    "b=a-b\n",
    "a=a-b\n",
    "print(\"swaping two number\")\n",
    "print(a)\n",
    "print(b)"
   ]
  },
  {
   "cell_type": "code",
   "execution_count": null,
   "metadata": {},
   "outputs": [],
   "source": [
    "#python program to generate random numbers\n",
    "import random\n",
    "a=int(input(\"enter the number\"))\n",
    "b=int(input(\"enter the number\"))\n",
    "\n",
    "c=random.randint(a,b)\n",
    "\n",
    "print(c)\n",
    "    "
   ]
  },
  {
   "cell_type": "code",
   "execution_count": null,
   "metadata": {},
   "outputs": [],
   "source": [
    "#Python Program to Convert Kilometers to Miles\n",
    "a=int(input(\"enter the kilometers\"))\n",
    "\n",
    "b=a/1.609\n",
    "\n",
    "print(a,\"kilometers\",b,\"miles\")\n"
   ]
  },
  {
   "cell_type": "code",
   "execution_count": null,
   "metadata": {},
   "outputs": [],
   "source": [
    "#Python Program to Convert Celsius To Fahrenheit\n",
    "a=int(input(\"enter the numer\"))\n",
    "\n",
    "b=(a * 9/5) + 32\n",
    "\n",
    "print(a,'celsisus',b,'fahrenheit')\n"
   ]
  },
  {
   "cell_type": "code",
   "execution_count": null,
   "metadata": {},
   "outputs": [],
   "source": [
    "#Python Program to Check if a Number is Positive, Negative or 0\n",
    "\n",
    "a=int(input(\"enter the number:\"))\n",
    "\n",
    "if(a>0):\n",
    "    print(\"Given NUmber is postive\")\n",
    "elif a==0:\n",
    "    print(\"Given Number is zero\")\n",
    "else:\n",
    "    print(\"Given Number is negative\")\n"
   ]
  },
  {
   "cell_type": "code",
   "execution_count": null,
   "metadata": {},
   "outputs": [],
   "source": [
    "#Python Program to Check if a Number is Odd or Even\n",
    "a=int(input(\"enter the number\"))\n",
    "\n",
    "if(a%2==0):\n",
    "    print(\"The Given number is EVEN\")\n",
    "else:\n",
    "    print(\"The Given number is ODD\")\n",
    "    "
   ]
  },
  {
   "cell_type": "code",
   "execution_count": null,
   "metadata": {},
   "outputs": [],
   "source": [
    "#Python Program to Check if Given Year is leap or not\n",
    "\n",
    "a=int(input(\"enter the year:\"))\n",
    "\n",
    "if(a%4==0):\n",
    "    print(\"leap year\")\n",
    "else:\n",
    "    print(\"not leap year\")"
   ]
  },
  {
   "cell_type": "code",
   "execution_count": null,
   "metadata": {},
   "outputs": [],
   "source": [
    "#Python Program to Find the Largest Among Three Numbers\n",
    "a=int(input(\"enter the number\"))\n",
    "b=int(input(\"enter the number\"))\n",
    "c=int(input(\"enter the number\"))\n",
    "\n",
    "if(a>b and b>c):\n",
    "    print(\"a is big\")\n",
    "elif(b>c and a>c):\n",
    "    print(\"b is big\")\n",
    "else:\n",
    "    print(\"c is big\")"
   ]
  },
  {
   "cell_type": "code",
   "execution_count": null,
   "metadata": {},
   "outputs": [],
   "source": [
    "#Python Program to Find the Smallest Among Three Numbers\n",
    "a=int(input(\"enter the number a:\"))\n",
    "b=int(input(\"enter the number b:\"))\n",
    "c=int(input(\"enter the number c:\"))\n",
    "\n",
    "if(a<b and b<c):\n",
    "    print('a is smallest number')\n",
    "elif(b<c and a<c):\n",
    "    print('b is smallest number')\n",
    "else:\n",
    "    print('c is smallest number')\n"
   ]
  },
  {
   "cell_type": "code",
   "execution_count": null,
   "metadata": {},
   "outputs": [],
   "source": [
    "#Python Program to Find the Factorial of a Number\n",
    "#a=int(input(\"enter the factorial number:\"))\n",
    "num=int(input('enter a number:'))\n",
    "f=1\n",
    "for i in range(1,num+1):\n",
    "    f=f*i\n",
    "print ('factorial of', num, '=',f)\n"
   ]
  },
  {
   "cell_type": "code",
   "execution_count": null,
   "metadata": {},
   "outputs": [],
   "source": [
    "#Python Program to Display the multiplication Table\n",
    "a=int(input('Enter the velue given'))\n",
    "b=int(input('Enter the value length'))\n",
    "\n",
    "for i in range(1,b+1):\n",
    "    c=i*a\n",
    "    print(f'{i} * {a}={c}')    "
   ]
  },
  {
   "cell_type": "code",
   "execution_count": null,
   "metadata": {
    "scrolled": true
   },
   "outputs": [],
   "source": [
    "#Python Program to Print the Fibonacci sequence\n",
    "a=int(input(\"enter the number:\"))\n",
    "\n",
    "def Fibonacci(n): \n",
    "    if n<0: \n",
    "        print(\"Incorrect input\") \n",
    "    # First Fibonacci number is 0 \n",
    "    elif n==0: \n",
    "        return 0\n",
    "    # Second Fibonacci number is 1 \n",
    "    elif n==1: \n",
    "        return 1\n",
    "    else: \n",
    "        return Fibonacci(n-1)+Fibonacci(n-2) \n",
    "  \n",
    "# Driver Program \n",
    "  \n",
    "print(Fibonacci(a)) "
   ]
  },
  {
   "cell_type": "code",
   "execution_count": null,
   "metadata": {},
   "outputs": [],
   "source": [
    "#python program to sum of natrual numbers\n",
    "a=int(input(\"enter the number\"))\n",
    "\n",
    "b=a*(a+1)\n",
    "\n",
    "c=b/2\n",
    "\n",
    "\n",
    "print(c)"
   ]
  },
  {
   "cell_type": "code",
   "execution_count": null,
   "metadata": {},
   "outputs": [],
   "source": [
    "#Python Program to Print all Numbers in a Range Divisible by a Given Number\n",
    "a=int(input(\"enter the number\"))\n",
    "b=int(input(\"enter the number\"))\n",
    "c=int(input(\"enter the number\"))\n",
    "\n",
    "for i in range(a,b+1):\n",
    "    if i%c==0:\n",
    "        print(i)"
   ]
  },
  {
   "cell_type": "code",
   "execution_count": null,
   "metadata": {},
   "outputs": [],
   "source": [
    "#Python Program to Read Two Numbers and Print Their Quotient and Remainder\n",
    "a=int(input(\"enter the number\"))\n",
    "b=int(input(\"enter the number\"))\n",
    "\n",
    "quotient=a//b\n",
    "remainder=a/b\n",
    "\n",
    "print(quotient)\n",
    "print(remainder)\n"
   ]
  },
  {
   "cell_type": "code",
   "execution_count": null,
   "metadata": {},
   "outputs": [],
   "source": [
    "#find the lcm given two number\n",
    "a=int(input(\"enter :\"))\n",
    "b=int(input(\"enter\"))\n",
    "lcm=|a.b|\n",
    "print(lcm)"
   ]
  },
  {
   "cell_type": "code",
   "execution_count": null,
   "metadata": {},
   "outputs": [],
   "source": [
    "#a=int(input(\"enter the number\"))\n",
    "b=int(input(\"enter the number\"))\n",
    "#for x in range(a,100,a):\n",
    " #   print(x)\n",
    "for y in range(b,100,b):\n",
    "        print(y)"
   ]
  },
  {
   "cell_type": "code",
   "execution_count": null,
   "metadata": {},
   "outputs": [],
   "source": [
    "#lcm in given number\n",
    "a=9\n"
   ]
  },
  {
   "cell_type": "code",
   "execution_count": null,
   "metadata": {},
   "outputs": [],
   "source": []
  }
 ],
 "metadata": {
  "kernelspec": {
   "display_name": "Python 3",
   "language": "python",
   "name": "python3"
  },
  "language_info": {
   "codemirror_mode": {
    "name": "ipython",
    "version": 3
   },
   "file_extension": ".py",
   "mimetype": "text/x-python",
   "name": "python",
   "nbconvert_exporter": "python",
   "pygments_lexer": "ipython3",
   "version": "3.7.3"
  }
 },
 "nbformat": 4,
 "nbformat_minor": 2
}
