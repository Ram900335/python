{
 "cells": [
  {
   "cell_type": "code",
   "execution_count": 1,
   "metadata": {},
   "outputs": [],
   "source": [
    "a='hello'"
   ]
  },
  {
   "cell_type": "code",
   "execution_count": 2,
   "metadata": {},
   "outputs": [
    {
     "name": "stdout",
     "output_type": "stream",
     "text": [
      "hello\n"
     ]
    }
   ],
   "source": [
    "print(a)"
   ]
  },
  {
   "cell_type": "code",
   "execution_count": null,
   "metadata": {},
   "outputs": [],
   "source": [
    "string1='hello'\n",
    "string2=\"my friend\"\n",
    "\n",
    "string3=\"\"\"welcome to all\n",
    "in new day\"\"\"\n",
    "\n",
    "print(string1)\n",
    "print(string2)\n",
    "print(string3)"
   ]
  },
  {
   "cell_type": "code",
   "execution_count": null,
   "metadata": {},
   "outputs": [],
   "source": [
    "name='gowrishankar'\n",
    "\n",
    "address=\"\"\"37, 4th street,\n",
    "arasu colony,e.pudur,trichy-12.\"\"\"\n",
    "\n",
    "print(name)\n",
    "print(address)\n"
   ]
  },
  {
   "cell_type": "code",
   "execution_count": null,
   "metadata": {},
   "outputs": [],
   "source": [
    "name='gowri'\n",
    "name1='shankr'\n",
    "id(name), id(name1)\n"
   ]
  },
  {
   "cell_type": "code",
   "execution_count": null,
   "metadata": {},
   "outputs": [],
   "source": [
    "id(a)"
   ]
  },
  {
   "cell_type": "code",
   "execution_count": null,
   "metadata": {},
   "outputs": [],
   "source": [
    "\n",
    "a=10\n",
    "b=20\n",
    "print(id(a),id(b))"
   ]
  },
  {
   "cell_type": "code",
   "execution_count": null,
   "metadata": {},
   "outputs": [],
   "source": [
    "#float doesnot show same value in id function\n",
    "a=13.4\n",
    "b=13.4\n",
    "print(id(a),id(b))"
   ]
  },
  {
   "cell_type": "code",
   "execution_count": null,
   "metadata": {
    "scrolled": true
   },
   "outputs": [],
   "source": [
    "#precision problems in floats\n",
    "c=.1+.1+.1-.3\n",
    "print(c)"
   ]
  },
  {
   "cell_type": "code",
   "execution_count": null,
   "metadata": {},
   "outputs": [],
   "source": [
    "#precision vs accuracy tradeoff\n",
    "\n",
    "from decimal import *\n",
    "a=Decimal('0.1')\n",
    "b=Decimal('0.3')\n",
    "\n",
    "c=a+a+a-b\n",
    "print (f\"the result is {c}\")"
   ]
  },
  {
   "cell_type": "code",
   "execution_count": null,
   "metadata": {},
   "outputs": [],
   "source": [
    "pi=3.14\n",
    "type(pi)"
   ]
  },
  {
   "cell_type": "code",
   "execution_count": null,
   "metadata": {},
   "outputs": [],
   "source": [
    "#if , else, elif \n",
    "a=16\n",
    "\n",
    "if(a%3==0 and a%5==0):\n",
    "    print(\"frizz buzz\")\n",
    "elif(a%3==0):\n",
    "    print(\"frizz\")\n",
    "elif(a%5==0):\n",
    "    print(\"buzz\")\n",
    "else:\n",
    "    print(\"none\")"
   ]
  },
  {
   "cell_type": "code",
   "execution_count": null,
   "metadata": {},
   "outputs": [],
   "source": [
    "#ternary operator\n",
    "mark=100\n",
    "\n",
    "result=\"pass\" if(mark>50) else \"fail\"\n",
    "\n",
    "print(\"mark= {}\".format(mark))\n",
    "print(\"result= {}\".format(result))"
   ]
  },
  {
   "cell_type": "code",
   "execution_count": null,
   "metadata": {},
   "outputs": [],
   "source": [
    "#swap\n",
    "a=10\n",
    "b=20\n",
    "tmp=0\n",
    "\n",
    "tmp=a\n",
    "a=b\n",
    "b=tmp\n",
    "\n",
    "print(a,b)"
   ]
  },
  {
   "cell_type": "code",
   "execution_count": null,
   "metadata": {},
   "outputs": [],
   "source": [
    "#find area of a triangle\n",
    "b=10\n",
    "h=10\n",
    "c=(0.5 * b* h)\n",
    "print(f\"area of triangle{c}\")"
   ]
  },
  {
   "cell_type": "code",
   "execution_count": null,
   "metadata": {},
   "outputs": [],
   "source": [
    "a=10\n",
    "b=0.621\n",
    "miles=(a*b)\n",
    "print(miles)"
   ]
  },
  {
   "cell_type": "code",
   "execution_count": null,
   "metadata": {},
   "outputs": [],
   "source": [
    "#odd or even\n",
    "\n",
    "a=5\n",
    "\n",
    "value=\"odd\" if(a%2==0) else \"even\"\n",
    "print(value)"
   ]
  },
  {
   "cell_type": "code",
   "execution_count": null,
   "metadata": {},
   "outputs": [],
   "source": [
    "#leap year \n",
    "a=1996\n",
    "year=\"leap\" if(a%4==0) else \"not leap\"\n",
    "print(year)"
   ]
  },
  {
   "cell_type": "code",
   "execution_count": null,
   "metadata": {
    "scrolled": true
   },
   "outputs": [],
   "source": [
    "#positive or negative or zero\n",
    "a=int(input(\"enter the good number\"))\n",
    "if(a>0):\n",
    "    print(\"positive\")\n",
    "elif(a==0):\n",
    "    print(\"zero\")\n",
    "else:\n",
    "    print(\"negative\")\n",
    "\n",
    "    \n"
   ]
  },
  {
   "cell_type": "code",
   "execution_count": null,
   "metadata": {},
   "outputs": [],
   "source": [
    "#loop\n",
    "\n",
    "value=int(input(\"enter the good number\"))\n",
    "\n",
    "while(value<9):\n",
    "    print(value)\n",
    "    value=value+1\n"
   ]
  },
  {
   "cell_type": "code",
   "execution_count": null,
   "metadata": {},
   "outputs": [],
   "source": [
    "password=\"gowri\"\n",
    "pwd=\"\"\n",
    "\n",
    "while pwd!=password:\n",
    "    pwd=input(\"enter your password:\")\n",
    "\n",
    "print=(\"password correct!! \\nwelcome\")\n",
    "    "
   ]
  },
  {
   "cell_type": "code",
   "execution_count": 1,
   "metadata": {},
   "outputs": [
    {
     "name": "stdout",
     "output_type": "stream",
     "text": [
      "a\n",
      "a\n",
      "a\n",
      "a\n",
      "a\n",
      "a\n",
      "a\n"
     ]
    }
   ],
   "source": [
    "#for loop\n",
    "\n",
    "days=['sun','mon','tue','wed','thu','fri','sat']\n",
    "\n",
    "for a in days:\n",
    "    print(\"a\")"
   ]
  },
  {
   "cell_type": "code",
   "execution_count": null,
   "metadata": {},
   "outputs": [],
   "source": [
    "list(range(20))"
   ]
  },
  {
   "cell_type": "code",
   "execution_count": 3,
   "metadata": {},
   "outputs": [
    {
     "name": "stdout",
     "output_type": "stream",
     "text": [
      "0\n",
      "1\n",
      "2\n",
      "3\n",
      "4\n",
      "5\n",
      "6\n",
      "7\n",
      "8\n",
      "9\n"
     ]
    }
   ],
   "source": [
    "for x in range(0,10):\n",
    "    print(x)\n",
    "    "
   ]
  },
  {
   "cell_type": "markdown",
   "metadata": {},
   "source": [
    "#multiples of 2 using range\n",
    "for x in range(0,10,2):\n",
    "    print(x)"
   ]
  },
  {
   "cell_type": "code",
   "execution_count": 4,
   "metadata": {},
   "outputs": [
    {
     "name": "stdout",
     "output_type": "stream",
     "text": [
      "10\n",
      "15\n",
      "20\n",
      "25\n",
      "30\n",
      "35\n",
      "40\n",
      "45\n",
      "50\n",
      "55\n",
      "60\n",
      "65\n",
      "70\n",
      "75\n",
      "80\n",
      "85\n",
      "90\n",
      "95\n"
     ]
    }
   ],
   "source": [
    "#multiples of 5 using range staring from 10 and ending in 100\n",
    "for x in range(10,100,5):\n",
    "    print(x)"
   ]
  },
  {
   "cell_type": "code",
   "execution_count": 1,
   "metadata": {},
   "outputs": [
    {
     "ename": "NameError",
     "evalue": "name 'n' is not defined",
     "output_type": "error",
     "traceback": [
      "\u001b[1;31m---------------------------------------------------------------------------\u001b[0m",
      "\u001b[1;31mNameError\u001b[0m                                 Traceback (most recent call last)",
      "\u001b[1;32m<ipython-input-1-74adfa83daed>\u001b[0m in \u001b[0;36m<module>\u001b[1;34m\u001b[0m\n\u001b[1;32m----> 1\u001b[1;33m \u001b[0mtype\u001b[0m\u001b[1;33m(\u001b[0m\u001b[0mn\u001b[0m\u001b[1;33m)\u001b[0m\u001b[1;33m\u001b[0m\u001b[1;33m\u001b[0m\u001b[0m\n\u001b[0m",
      "\u001b[1;31mNameError\u001b[0m: name 'n' is not defined"
     ]
    }
   ],
   "source": [
    "type(n)"
   ]
  },
  {
   "cell_type": "code",
   "execution_count": 9,
   "metadata": {},
   "outputs": [
    {
     "name": "stdout",
     "output_type": "stream",
     "text": [
      "enter the number:4\n",
      "0\n",
      "5\n",
      "10\n",
      "15\n",
      "20\n"
     ]
    }
   ],
   "source": [
    "#first n multiples of 5 using a for loop\n",
    "n=input(\"enter the number:\")\n",
    "n=int(n)\n",
    "for x in range(0,n+1):\n",
    "    print(x*5)"
   ]
  },
  {
   "cell_type": "code",
   "execution_count": 10,
   "metadata": {},
   "outputs": [
    {
     "name": "stdout",
     "output_type": "stream",
     "text": [
      "0 :::> sun\n",
      "1 :::> mon\n",
      "2 :::> tue\n",
      "3 :::> wed\n",
      "4 :::> thu\n",
      "5 :::> fri\n",
      "6 :::> sat\n"
     ]
    }
   ],
   "source": [
    "#enumerate\n",
    "day=['sun','mon','tue','wed','thu','fri','sat']\n",
    "for index,data in enumerate(day):\n",
    "    print(f\"{index} :::> {data}\")"
   ]
  },
  {
   "cell_type": "code",
   "execution_count": null,
   "metadata": {},
   "outputs": [],
   "source": [
    "n=\"gowri\"\n",
    "for index,data in enumerate(n):\n",
    "    print(f\"{index}---> {data}\")"
   ]
  },
  {
   "cell_type": "code",
   "execution_count": null,
   "metadata": {
    "scrolled": true
   },
   "outputs": [],
   "source": [
    "password=\"gowri\"\n",
    "pwd=''\n",
    "count=0\n",
    "\n",
    "while pwd!=password:\n",
    "    if count==5:\n",
    "        break\n",
    "        count +=1\n",
    "        pwd=input(f\"attempt {count}:enter your password:\")\n",
    "\n",
    "if (pwd==password):\n",
    "    print(\"authorized... \\nwelcome you\")\n",
    "else:\n",
    "    print(\"wrong password\")\n",
    "                \n",
    "    "
   ]
  },
  {
   "cell_type": "code",
   "execution_count": 2,
   "metadata": {},
   "outputs": [
    {
     "name": "stdout",
     "output_type": "stream",
     "text": [
      "dog\n",
      "cat\n",
      "error !! exiting!!  we have a bird\n"
     ]
    }
   ],
   "source": [
    "#break and continue\n",
    "animals=['dog','cat','parrot','lion','tiger']\n",
    "for animals in animals:\n",
    "    if(animals=='fish'):\n",
    "        continue\n",
    "    \n",
    "    if(animals=='parrot'):\n",
    "        print(\"error !! exiting!!  we have a bird\")\n",
    "        break\n",
    "    print(animals)\n",
    "else:\n",
    "    print(\"printed all animals\")"
   ]
  },
  {
   "cell_type": "code",
   "execution_count": 3,
   "metadata": {},
   "outputs": [
    {
     "name": "stdout",
     "output_type": "stream",
     "text": [
      "SUNDAY\n",
      "i hate monday\n",
      "tue\n",
      "wed\n",
      "fri\n",
      "sat\n"
     ]
    }
   ],
   "source": [
    "days=['sun','mon','tue','wed','thu','fri','sat']\n",
    "\n",
    "for days in days:\n",
    "    if(days=='sun'):\n",
    "        print(\"SUNDAY\")\n",
    "        continue\n",
    "    if(days=='mon'):\n",
    "        print(\"i hate monday\")\n",
    "        continue\n",
    "    if(days=='thu'):\n",
    "        continue\n",
    "        \n",
    "    print(days)\n",
    "                    "
   ]
  },
  {
   "cell_type": "code",
   "execution_count": null,
   "metadata": {},
   "outputs": [],
   "source": [
    "#read two number print their quotient an remainder\n",
    "a=int(input(\"enter first number:\"))\n",
    "b=int(input(\"enter secound number:\"))\n",
    "q=a/b\n",
    "r=a%b\n",
    "print(f\"quotient:{q}\")\n",
    "print(f\"remainder:{r}\")"
   ]
  },
  {
   "cell_type": "code",
   "execution_count": null,
   "metadata": {},
   "outputs": [],
   "source": [
    "#factorial n number\n",
    "n=int(input(\"enrer the number:\"))\n",
    "fact=1\n",
    "i=1\n",
    "while(i<n+1):\n",
    "    fact=fact*i\n",
    "    i=i+1\n",
    "print(fact)"
   ]
  },
  {
   "cell_type": "code",
   "execution_count": null,
   "metadata": {},
   "outputs": [],
   "source": [
    "a=int(input(\"enter the number:\"))\n",
    "\n",
    "while(a>0):\n",
    "    x=a%10\n",
    "    b=a/10\n",
    "if(b==a):\n",
    "    print(\"a is same number\")\n",
    "else:\n",
    "    print(\"sum error occure\")\n",
    "print(x)\n"
   ]
  },
  {
   "cell_type": "code",
   "execution_count": null,
   "metadata": {},
   "outputs": [],
   "source": [
    "x=int(input(\"enter the number:\"))\n",
    "for x in range(9,x,9):\n",
    "    print(x)"
   ]
  },
  {
   "cell_type": "code",
   "execution_count": null,
   "metadata": {},
   "outputs": [],
   "source": [
    "#swap variables\n",
    "a=int(input(\"enter the number\"))\n",
    "b=int(input(\"enter the number\"))\n",
    "\n",
    "a=a^b\n",
    "#b=a^b\n",
    "\n",
    "print(a)\n",
    "print(b)"
   ]
  },
  {
   "cell_type": "code",
   "execution_count": null,
   "metadata": {},
   "outputs": [],
   "source": [
    "#leap year\n",
    "x=int(input(\"enter the number:\"))\n",
    "if(x%4==0 and x%100==0):\n",
    "    print(\"leap year\")\n",
    "elif(x%400==0):\n",
    "    print(\"not leap\")"
   ]
  },
  {
   "cell_type": "code",
   "execution_count": null,
   "metadata": {},
   "outputs": [],
   "source": [
    "#sum of all natural number\n",
    "a=9\n",
    "for b in range(1,a+1,1):\n",
    "        print(b)\n",
    "    "
   ]
  },
  {
   "cell_type": "code",
   "execution_count": null,
   "metadata": {},
   "outputs": [],
   "source": [
    "#leapyear in function\n",
    "\n",
    "year=int(input(\"enter the year\"));\n",
    "\n",
    "def isleapyear(int year)\n",
    "{\n",
    "    istypicalleapyear(year) && not(isatypicalcommonyear(year);                            \n",
    "}\n",
    "def istypicalleapyear(int year)\n",
    "{\n",
    "    year % 4 == 0;\n",
    "}\n",
    "def isatypicalcommonyear(int year)\n",
    "{\n",
    "    year % 100 == 0 && not(year % 400 == 0);\n",
    "}"
   ]
  },
  {
   "cell_type": "code",
   "execution_count": null,
   "metadata": {},
   "outputs": [],
   "source": [
    "#try catch\n",
    "try:\n",
    "    a=0/0\n",
    "    f=open(\"hello.txt\",\"r\")\n",
    "    print(r.read())\n",
    "except:\n",
    "    print(\"error in opening file\")"
   ]
  },
  {
   "cell_type": "code",
   "execution_count": null,
   "metadata": {},
   "outputs": [],
   "source": [
    "#try catch II\n",
    "try:\n",
    "    #a=0/0\n",
    "    f=open(\"hello.txt\",\"r\")\n",
    "    print(r.read())\n",
    "except IOError:\n",
    "    print(\"error in opeing file\")\n",
    "except:\n",
    "    print(\"error\")"
   ]
  },
  {
   "cell_type": "code",
   "execution_count": null,
   "metadata": {},
   "outputs": [],
   "source": [
    "#USER INPUT\n",
    "a=input(\"enter the value of a\")\n",
    "a"
   ]
  },
  {
   "cell_type": "code",
   "execution_count": null,
   "metadata": {},
   "outputs": [],
   "source": [
    "#file handling \n",
    "\n",
    "f=open(\"fil.txt\",\"w\")\n",
    "f.write(\"hi welcome, \\n i am your friend\")\n",
    "f.close()"
   ]
  },
  {
   "cell_type": "code",
   "execution_count": null,
   "metadata": {},
   "outputs": [],
   "source": [
    "f=open(\"fil.txt\",\"r\")\n",
    "a=f.read()\n",
    "f.close()\n",
    "print(a)"
   ]
  },
  {
   "cell_type": "code",
   "execution_count": null,
   "metadata": {},
   "outputs": [],
   "source": [
    "with open(\"fil.txt\",\"r\") as f:\n",
    "    for line in f:\n",
    "        print(line)"
   ]
  },
  {
   "cell_type": "code",
   "execution_count": null,
   "metadata": {},
   "outputs": [],
   "source": [
    "f=open(\"fil.txt\",\"r\")\n",
    "a=f.readlines()\n",
    "f.close()\n",
    "print(a)"
   ]
  },
  {
   "cell_type": "code",
   "execution_count": null,
   "metadata": {},
   "outputs": [],
   "source": [
    "with open(\"fil.txt\",\"r\")as f:\n",
    "    for i,line in enumerate(f):\n",
    "        print(i,line)"
   ]
  },
  {
   "cell_type": "code",
   "execution_count": null,
   "metadata": {},
   "outputs": [],
   "source": [
    "f=open(\"fil.txt\",\"a\")\n",
    "a=f.write(\"welcome too all\")\n",
    "f.close()\n",
    "print(a)"
   ]
  },
  {
   "cell_type": "code",
   "execution_count": null,
   "metadata": {},
   "outputs": [],
   "source": [
    "import csv\n",
    "filename=\"tweets_withheader.csv\"\n",
    "with open(filename,\"r\")as f:\n",
    "    data_reader=csv.reader(f,delimiter=',')\n",
    "    headers=next(data_reader)\n",
    "    print(\"headers = \"+ str(headers))\n",
    "    \n",
    "    print(\"\\nContent\")\n",
    "    for line in data_reader:\n",
    "        print(line)\n",
    "    \n",
    "    "
   ]
  },
  {
   "cell_type": "code",
   "execution_count": null,
   "metadata": {},
   "outputs": [],
   "source": [
    "import csv\n",
    "filename=\"tweets_noheader.csv\"\n",
    "with open(filename,\"r\")as f:\n",
    "    data_reader=csv.reader(f,delimiter=',')\n",
    "    \n",
    "    \n",
    "    print(\"Content\")\n",
    "    for line in data_reader:\n",
    "        print(line)\n",
    "    \n",
    "    "
   ]
  },
  {
   "cell_type": "code",
   "execution_count": null,
   "metadata": {},
   "outputs": [],
   "source": [
    "#json\n",
    "\n",
    "import json\n",
    "filename=\"moviereview.json\"\n",
    "with open(filename,\"r\")as f:\n",
    "    a=f.read()\n",
    "    movie=json.loads(a)\n",
    "movie\n"
   ]
  },
  {
   "cell_type": "code",
   "execution_count": null,
   "metadata": {},
   "outputs": [],
   "source": [
    "import json\n",
    "filename=\"moviereview.json\"\n",
    "with open(filename,\"r\")as f:\n",
    "    movie=json.load(f)\n",
    "movie"
   ]
  },
  {
   "cell_type": "code",
   "execution_count": null,
   "metadata": {},
   "outputs": [],
   "source": [
    "movie['Year']"
   ]
  },
  {
   "cell_type": "code",
   "execution_count": null,
   "metadata": {},
   "outputs": [],
   "source": [
    "import json\n",
    "filename=\"moviereviews.jsonl\"\n",
    "with open(filename,\"r\")as f:\n",
    "    for  line in f:\n",
    "        movie=json.loads(line)\n",
    "        print(movie)"
   ]
  },
  {
   "cell_type": "code",
   "execution_count": null,
   "metadata": {},
   "outputs": [],
   "source": [
    "#input \n",
    "a=int(input(\"enter the a\"))\n",
    "b=int(input(\"enter the b\"))\n",
    "\n",
    "while(b==0):\n",
    "    try:\n",
    "        a/b\n",
    "    except:\n",
    "        print(\"cannot divid zero\")\n",
    "        b=int(input(\"enter the b\"))\n",
    "\n",
    "c=a/b\n",
    "print(c)\n"
   ]
  },
  {
   "cell_type": "code",
   "execution_count": null,
   "metadata": {},
   "outputs": [],
   "source": [
    "#list comprehensions\n",
    "\n",
    "squares=[]\n",
    "for x in range(10):\n",
    "    squares.append(x*x)\n",
    "squares"
   ]
  },
  {
   "cell_type": "code",
   "execution_count": null,
   "metadata": {},
   "outputs": [],
   "source": [
    "#type II\n",
    "squares=[x**2 for x in range(10)]\n",
    "squares"
   ]
  },
  {
   "cell_type": "code",
   "execution_count": null,
   "metadata": {},
   "outputs": [],
   "source": [
    "#type III\n",
    "squares=[x*x for x in range(10)]\n",
    "squares"
   ]
  },
  {
   "cell_type": "code",
   "execution_count": null,
   "metadata": {},
   "outputs": [],
   "source": [
    "combos=[]\n",
    "\n",
    "for x in [1,2,3]:\n",
    "    for y in [1,2,3]:\n",
    "        if x!=y:\n",
    "            combos.append((x,y))\n",
    "            \n",
    "combos"
   ]
  },
  {
   "cell_type": "code",
   "execution_count": null,
   "metadata": {},
   "outputs": [],
   "source": [
    "combos=[(x,y) for x in [1,2,3] for y in [1,2,3]]\n",
    "combos"
   ]
  },
  {
   "cell_type": "code",
   "execution_count": null,
   "metadata": {},
   "outputs": [],
   "source": [
    "combos=[(x,y) for x in [1,2,3] for y in [1,2,3] if x!=y]\n",
    "combos"
   ]
  },
  {
   "cell_type": "code",
   "execution_count": null,
   "metadata": {},
   "outputs": [],
   "source": [
    "combos=[(x,y) for x in [1,2,3]\n",
    "      for y in [1,2,3]\n",
    "      if x!=y]\n",
    "combos"
   ]
  },
  {
   "cell_type": "code",
   "execution_count": null,
   "metadata": {},
   "outputs": [],
   "source": [
    "combos=[(x,y) if x!=y else (0,0)\n",
    "       for x in [1,2,3]\n",
    "       for y in [1,2,3]]\n",
    "combos"
   ]
  },
  {
   "cell_type": "code",
   "execution_count": null,
   "metadata": {},
   "outputs": [],
   "source": [
    "x=[111,222,333,444,555,666,777,888,999,777]\n",
    "x"
   ]
  },
  {
   "cell_type": "code",
   "execution_count": null,
   "metadata": {},
   "outputs": [],
   "source": [
    "#given number in squres and cube\n",
    "import random\n",
    "a=[random.randint(100,999) for _ in range(10)]\n",
    "[(i,i**2,i**3)for i in a]"
   ]
  },
  {
   "cell_type": "code",
   "execution_count": null,
   "metadata": {},
   "outputs": [],
   "source": [
    "x=int(input(\"enter 3 digit number:\"));\n",
    "print(x)\n",
    "squares=[x*x]\n",
    "squares\n",
    "cube=[x**3]\n",
    "cube\n",
    "print(squares)\n",
    "print(cube)"
   ]
  },
  {
   "cell_type": "code",
   "execution_count": null,
   "metadata": {},
   "outputs": [],
   "source": [
    "#dictionaryy comprehesion\n",
    "fords=(\"the quick brown fox jumped over the lazy dog\")\n",
    "tokens=fords.split(',')\n",
    "tokens\n"
   ]
  },
  {
   "cell_type": "code",
   "execution_count": null,
   "metadata": {},
   "outputs": [],
   "source": [
    "word_len={}\n",
    "\n",
    "\n",
    "for w in tokens:\n",
    "    word_len[w]=len(w)\n",
    "    \n",
    "word_len"
   ]
  },
  {
   "cell_type": "code",
   "execution_count": null,
   "metadata": {},
   "outputs": [],
   "source": [
    "word_len={w:len(w) for w in words.split()}\n",
    "word_len"
   ]
  },
  {
   "cell_type": "code",
   "execution_count": null,
   "metadata": {},
   "outputs": [],
   "source": [
    "#creating generators\n",
    "\n",
    "squares=(x*x for x in range(10))\n",
    "squares"
   ]
  },
  {
   "cell_type": "code",
   "execution_count": null,
   "metadata": {},
   "outputs": [],
   "source": [
    "for item in squares:\n",
    "    print(item)"
   ]
  },
  {
   "cell_type": "code",
   "execution_count": null,
   "metadata": {},
   "outputs": [],
   "source": [
    "#sume fundamental programming concept\n",
    "#map\n",
    "def f(x):\n",
    "    return x*x\n",
    "\n",
    "n=range(10)\n",
    "\n",
    "squares=map(f,n)\n",
    "\n",
    "print(squares)\n",
    "print(list(squares))"
   ]
  },
  {
   "cell_type": "code",
   "execution_count": null,
   "metadata": {},
   "outputs": [],
   "source": [
    "def add(a,b):\n",
    "    return a+b\n",
    "\n",
    "a=[1,2,3]\n",
    "b=[2,1,4]\n",
    "\n",
    "results=map(add,a,b)\n",
    "list(results)"
   ]
  },
  {
   "cell_type": "code",
   "execution_count": null,
   "metadata": {},
   "outputs": [],
   "source": [
    "def add(a,b):\n",
    "    return a+b\n",
    "\n",
    "a=[1,2,3]\n",
    "b=[1,2,3,4]\n",
    "\n",
    "c=map(add,a,b)\n",
    "list(c)"
   ]
  },
  {
   "cell_type": "code",
   "execution_count": null,
   "metadata": {},
   "outputs": [],
   "source": [
    "##filter\n",
    "def is_even(a):\n",
    "    return a%2==0\n",
    "\n",
    "seq=range(20)\n",
    "\n",
    "evenNumbers=filter(is_even,seq)\n",
    "list(evenNumbers)"
   ]
  },
  {
   "cell_type": "code",
   "execution_count": null,
   "metadata": {},
   "outputs": [],
   "source": [
    "In"
   ]
  },
  {
   "cell_type": "code",
   "execution_count": null,
   "metadata": {},
   "outputs": [],
   "source": [
    "Out"
   ]
  },
  {
   "cell_type": "code",
   "execution_count": null,
   "metadata": {},
   "outputs": [],
   "source": [
    "#magic commands\n",
    "%magic"
   ]
  },
  {
   "cell_type": "code",
   "execution_count": null,
   "metadata": {},
   "outputs": [],
   "source": [
    "%magic"
   ]
  },
  {
   "cell_type": "code",
   "execution_count": null,
   "metadata": {},
   "outputs": [],
   "source": [
    "from random import random\n",
    "\n",
    "l=[int(random()*10) for _ in range(0,1000)]\n",
    "t=[int(random()*10) for _ in range(0,1000)]\n",
    "%time print(5 in l)\n",
    "%time print(5 in t)\n",
    "\n"
   ]
  },
  {
   "cell_type": "code",
   "execution_count": null,
   "metadata": {},
   "outputs": [],
   "source": [
    "%%time\n",
    "l=[10,20,30]\n",
    "print(5 in l)"
   ]
  },
  {
   "cell_type": "code",
   "execution_count": null,
   "metadata": {},
   "outputs": [],
   "source": [
    "%timeit l=[10,20,30]\n",
    "print(5 in l)"
   ]
  },
  {
   "cell_type": "code",
   "execution_count": null,
   "metadata": {},
   "outputs": [],
   "source": [
    "%precision 2\n",
    "l=[(random()*10) for _ in range(0,10)]\n",
    "print(l)"
   ]
  },
  {
   "cell_type": "code",
   "execution_count": null,
   "metadata": {},
   "outputs": [],
   "source": [
    "f=open(\"AliceInWonderland.txt\")\n",
    "tokens=\n",
    "tokens"
   ]
  },
  {
   "cell_type": "markdown",
   "metadata": {},
   "source": [
    "## numpy"
   ]
  },
  {
   "cell_type": "code",
   "execution_count": 11,
   "metadata": {},
   "outputs": [],
   "source": [
    "import numpy as np"
   ]
  },
  {
   "cell_type": "code",
   "execution_count": 12,
   "metadata": {},
   "outputs": [
    {
     "name": "stdout",
     "output_type": "stream",
     "text": [
      "1.16.2\n"
     ]
    }
   ],
   "source": [
    "import numpy as np\n",
    "print(np.__version__)"
   ]
  },
  {
   "cell_type": "markdown",
   "metadata": {},
   "source": [
    "# creating a numpy arrays"
   ]
  },
  {
   "cell_type": "code",
   "execution_count": 13,
   "metadata": {},
   "outputs": [
    {
     "data": {
      "text/plain": [
       "array([1, 2, 3, 4, 5])"
      ]
     },
     "execution_count": 13,
     "metadata": {},
     "output_type": "execute_result"
    }
   ],
   "source": [
    "a=np.array([1,2,3,4,5])\n",
    "a"
   ]
  },
  {
   "cell_type": "code",
   "execution_count": null,
   "metadata": {},
   "outputs": [],
   "source": [
    "a=np.array([1,2.2,3,4,5])\n",
    "a"
   ]
  },
  {
   "cell_type": "code",
   "execution_count": 14,
   "metadata": {},
   "outputs": [
    {
     "ename": "NameError",
     "evalue": "name 'newstrarry' is not defined",
     "output_type": "error",
     "traceback": [
      "\u001b[1;31m---------------------------------------------------------------------------\u001b[0m",
      "\u001b[1;31mNameError\u001b[0m                                 Traceback (most recent call last)",
      "\u001b[1;32m<ipython-input-14-c566d6dc9a3a>\u001b[0m in \u001b[0;36m<module>\u001b[1;34m\u001b[0m\n\u001b[0;32m      1\u001b[0m \u001b[0ma\u001b[0m\u001b[1;33m=\u001b[0m\u001b[0mnp\u001b[0m\u001b[1;33m.\u001b[0m\u001b[0marray\u001b[0m\u001b[1;33m(\u001b[0m\u001b[1;33m[\u001b[0m\u001b[1;36m1\u001b[0m\u001b[1;33m,\u001b[0m\u001b[1;36m2\u001b[0m\u001b[1;33m,\u001b[0m\u001b[1;36m3\u001b[0m\u001b[1;33m,\u001b[0m\u001b[1;36m4\u001b[0m\u001b[1;33m,\u001b[0m\u001b[1;36m5\u001b[0m\u001b[1;33m]\u001b[0m\u001b[1;33m)\u001b[0m\u001b[1;33m\u001b[0m\u001b[1;33m\u001b[0m\u001b[0m\n\u001b[0;32m      2\u001b[0m \u001b[0mnewstrArry\u001b[0m\u001b[1;33m=\u001b[0m\u001b[0ma\u001b[0m\u001b[1;33m.\u001b[0m\u001b[0mastype\u001b[0m\u001b[1;33m(\u001b[0m\u001b[0mstr\u001b[0m\u001b[1;33m)\u001b[0m\u001b[1;33m\u001b[0m\u001b[1;33m\u001b[0m\u001b[0m\n\u001b[1;32m----> 3\u001b[1;33m \u001b[0mnewstrarry\u001b[0m\u001b[1;33m\u001b[0m\u001b[1;33m\u001b[0m\u001b[0m\n\u001b[0m",
      "\u001b[1;31mNameError\u001b[0m: name 'newstrarry' is not defined"
     ]
    }
   ],
   "source": [
    "a=np.array([1,2,3,4,5])\n",
    "newstrArry=a.astype(str)\n",
    "newstrarry"
   ]
  },
  {
   "cell_type": "code",
   "execution_count": 15,
   "metadata": {},
   "outputs": [
    {
     "name": "stdout",
     "output_type": "stream",
     "text": [
      "Help on built-in function astype:\n",
      "\n",
      "astype(...) method of numpy.ndarray instance\n",
      "    a.astype(dtype, order='K', casting='unsafe', subok=True, copy=True)\n",
      "    \n",
      "    Copy of the array, cast to a specified type.\n",
      "    \n",
      "    Parameters\n",
      "    ----------\n",
      "    dtype : str or dtype\n",
      "        Typecode or data-type to which the array is cast.\n",
      "    order : {'C', 'F', 'A', 'K'}, optional\n",
      "        Controls the memory layout order of the result.\n",
      "        'C' means C order, 'F' means Fortran order, 'A'\n",
      "        means 'F' order if all the arrays are Fortran contiguous,\n",
      "        'C' order otherwise, and 'K' means as close to the\n",
      "        order the array elements appear in memory as possible.\n",
      "        Default is 'K'.\n",
      "    casting : {'no', 'equiv', 'safe', 'same_kind', 'unsafe'}, optional\n",
      "        Controls what kind of data casting may occur. Defaults to 'unsafe'\n",
      "        for backwards compatibility.\n",
      "    \n",
      "          * 'no' means the data types should not be cast at all.\n",
      "          * 'equiv' means only byte-order changes are allowed.\n",
      "          * 'safe' means only casts which can preserve values are allowed.\n",
      "          * 'same_kind' means only safe casts or casts within a kind,\n",
      "            like float64 to float32, are allowed.\n",
      "          * 'unsafe' means any data conversions may be done.\n",
      "    subok : bool, optional\n",
      "        If True, then sub-classes will be passed-through (default), otherwise\n",
      "        the returned array will be forced to be a base-class array.\n",
      "    copy : bool, optional\n",
      "        By default, astype always returns a newly allocated array. If this\n",
      "        is set to false, and the `dtype`, `order`, and `subok`\n",
      "        requirements are satisfied, the input array is returned instead\n",
      "        of a copy.\n",
      "    \n",
      "    Returns\n",
      "    -------\n",
      "    arr_t : ndarray\n",
      "        Unless `copy` is False and the other conditions for returning the input\n",
      "        array are satisfied (see description for `copy` input parameter), `arr_t`\n",
      "        is a new array of the same shape as the input array, with dtype, order\n",
      "        given by `dtype`, `order`.\n",
      "    \n",
      "    Notes\n",
      "    -----\n",
      "    Starting in NumPy 1.9, astype method now returns an error if the string\n",
      "    dtype to cast to is not long enough in 'safe' casting mode to hold the max\n",
      "    value of integer/float array that is being casted. Previously the casting\n",
      "    was allowed even if the result was truncated.\n",
      "    \n",
      "    Raises\n",
      "    ------\n",
      "    ComplexWarning\n",
      "        When casting from complex to float or int. To avoid this,\n",
      "        one should use ``a.real.astype(t)``.\n",
      "    \n",
      "    Examples\n",
      "    --------\n",
      "    >>> x = np.array([1, 2, 2.5])\n",
      "    >>> x\n",
      "    array([ 1. ,  2. ,  2.5])\n",
      "    \n",
      "    >>> x.astype(int)\n",
      "    array([1, 2, 2])\n",
      "\n"
     ]
    }
   ],
   "source": [
    "help(a.astype)"
   ]
  },
  {
   "cell_type": "code",
   "execution_count": 16,
   "metadata": {},
   "outputs": [
    {
     "ename": "NameError",
     "evalue": "name 'newstrarry' is not defined",
     "output_type": "error",
     "traceback": [
      "\u001b[1;31m---------------------------------------------------------------------------\u001b[0m",
      "\u001b[1;31mNameError\u001b[0m                                 Traceback (most recent call last)",
      "\u001b[1;32m<ipython-input-16-855c24615bcb>\u001b[0m in \u001b[0;36m<module>\u001b[1;34m\u001b[0m\n\u001b[1;32m----> 1\u001b[1;33m \u001b[0mnewstrarry\u001b[0m\u001b[1;33m.\u001b[0m\u001b[0mtolist\u001b[0m\u001b[1;33m(\u001b[0m\u001b[1;33m)\u001b[0m\u001b[1;33m\u001b[0m\u001b[1;33m\u001b[0m\u001b[0m\n\u001b[0m",
      "\u001b[1;31mNameError\u001b[0m: name 'newstrarry' is not defined"
     ]
    }
   ],
   "source": [
    "newstrarry.tolist()"
   ]
  },
  {
   "cell_type": "code",
   "execution_count": 17,
   "metadata": {},
   "outputs": [
    {
     "data": {
      "text/plain": [
       "array([1., 2., 3., 4., 5.])"
      ]
     },
     "execution_count": 17,
     "metadata": {},
     "output_type": "execute_result"
    }
   ],
   "source": [
    "a=np.array([1,2,3,4,5],dtype=np.float64)\n",
    "a"
   ]
  },
  {
   "cell_type": "code",
   "execution_count": 18,
   "metadata": {},
   "outputs": [
    {
     "data": {
      "text/plain": [
       "(1, (5,), 5)"
      ]
     },
     "execution_count": 18,
     "metadata": {},
     "output_type": "execute_result"
    }
   ],
   "source": [
    "a.ndim, a.shape, a.size"
   ]
  },
  {
   "cell_type": "code",
   "execution_count": 19,
   "metadata": {},
   "outputs": [
    {
     "data": {
      "text/plain": [
       "array([ 0,  1,  2,  3,  4,  5,  6,  7,  8,  9, 10, 11, 12, 13, 14, 15, 16,\n",
       "       17, 18, 19, 20, 21, 22, 23, 24, 25, 26, 27, 28, 29, 30, 31, 32, 33,\n",
       "       34, 35, 36, 37, 38, 39, 40, 41, 42, 43, 44, 45, 46, 47, 48, 49])"
      ]
     },
     "execution_count": 19,
     "metadata": {},
     "output_type": "execute_result"
    }
   ],
   "source": [
    "##create a 1-D nupy array of 50 elements and display its contents\n",
    "a=np.array(range(50))\n",
    "a"
   ]
  },
  {
   "cell_type": "code",
   "execution_count": 20,
   "metadata": {},
   "outputs": [
    {
     "name": "stdout",
     "output_type": "stream",
     "text": [
      "1\n",
      "(50,)\n",
      "50\n"
     ]
    }
   ],
   "source": [
    "##write a function meta that prints the dimension ,shape and size\n",
    "\n",
    "def meta(a):\n",
    "    print(a.ndim)\n",
    "    print(a.shape)\n",
    "    print(a.size)\n",
    "meta(a)\n"
   ]
  },
  {
   "cell_type": "markdown",
   "metadata": {},
   "source": [
    "# new datatype object"
   ]
  },
  {
   "cell_type": "code",
   "execution_count": 21,
   "metadata": {},
   "outputs": [
    {
     "data": {
      "text/plain": [
       "array(['1', 'gowri', '98.2'], dtype='<U11')"
      ]
     },
     "execution_count": 21,
     "metadata": {},
     "output_type": "execute_result"
    }
   ],
   "source": [
    "a=np.array([1,\"gowri\",98.2])\n",
    "a"
   ]
  },
  {
   "cell_type": "code",
   "execution_count": 22,
   "metadata": {},
   "outputs": [
    {
     "data": {
      "text/plain": [
       "array([1, 'gowri', 98.2], dtype=object)"
      ]
     },
     "execution_count": 22,
     "metadata": {},
     "output_type": "execute_result"
    }
   ],
   "source": [
    "a=np.array([1,\"gowri\",98.2],dtype=np.object)\n",
    "a"
   ]
  },
  {
   "cell_type": "markdown",
   "metadata": {},
   "source": [
    "# can handle vectorized operations"
   ]
  },
  {
   "cell_type": "code",
   "execution_count": 23,
   "metadata": {},
   "outputs": [
    {
     "data": {
      "text/plain": [
       "([1, 2, 3, 4, 5], array([1, 2, 3, 4, 5]))"
      ]
     },
     "execution_count": 23,
     "metadata": {},
     "output_type": "execute_result"
    }
   ],
   "source": [
    "l=[1,2,3,4,5]\n",
    "npa=np.array(l)\n",
    "l,npa"
   ]
  },
  {
   "cell_type": "code",
   "execution_count": 24,
   "metadata": {},
   "outputs": [
    {
     "ename": "TypeError",
     "evalue": "can only concatenate list (not \"int\") to list",
     "output_type": "error",
     "traceback": [
      "\u001b[1;31m---------------------------------------------------------------------------\u001b[0m",
      "\u001b[1;31mTypeError\u001b[0m                                 Traceback (most recent call last)",
      "\u001b[1;32m<ipython-input-24-543ccc8138a6>\u001b[0m in \u001b[0;36m<module>\u001b[1;34m\u001b[0m\n\u001b[1;32m----> 1\u001b[1;33m \u001b[0ml\u001b[0m\u001b[1;33m+\u001b[0m\u001b[1;36m2\u001b[0m\u001b[1;33m\u001b[0m\u001b[1;33m\u001b[0m\u001b[0m\n\u001b[0m",
      "\u001b[1;31mTypeError\u001b[0m: can only concatenate list (not \"int\") to list"
     ]
    }
   ],
   "source": [
    "l+2"
   ]
  },
  {
   "cell_type": "code",
   "execution_count": 25,
   "metadata": {},
   "outputs": [
    {
     "data": {
      "text/plain": [
       "array([3, 4, 5, 6, 7])"
      ]
     },
     "execution_count": 25,
     "metadata": {},
     "output_type": "execute_result"
    }
   ],
   "source": [
    "npa+2"
   ]
  },
  {
   "cell_type": "markdown",
   "metadata": {},
   "source": [
    "# multi dimensional arrays"
   ]
  },
  {
   "cell_type": "code",
   "execution_count": 26,
   "metadata": {},
   "outputs": [
    {
     "data": {
      "text/plain": [
       "array([[1, 2, 3, 4, 5],\n",
       "       [6, 7, 8, 9, 0]])"
      ]
     },
     "execution_count": 26,
     "metadata": {},
     "output_type": "execute_result"
    }
   ],
   "source": [
    "b=np.array([[1,2,3,4,5],[6,7,8,9,0]])\n",
    "b"
   ]
  },
  {
   "cell_type": "code",
   "execution_count": 27,
   "metadata": {},
   "outputs": [
    {
     "data": {
      "text/plain": [
       "(2, (2, 5), 10, dtype('int32'))"
      ]
     },
     "execution_count": 27,
     "metadata": {},
     "output_type": "execute_result"
    }
   ],
   "source": [
    "b.ndim, b.shape, b.size, b.dtype"
   ]
  },
  {
   "cell_type": "markdown",
   "metadata": {},
   "source": [
    "# some helpful functions"
   ]
  },
  {
   "cell_type": "code",
   "execution_count": 31,
   "metadata": {},
   "outputs": [
    {
     "data": {
      "text/plain": [
       "array([[0., 0., 0.],\n",
       "       [0., 0., 0.],\n",
       "       [0., 0., 0.]])"
      ]
     },
     "execution_count": 31,
     "metadata": {},
     "output_type": "execute_result"
    }
   ],
   "source": [
    "np.zeros((3,3))"
   ]
  },
  {
   "cell_type": "code",
   "execution_count": 32,
   "metadata": {},
   "outputs": [
    {
     "name": "stdout",
     "output_type": "stream",
     "text": [
      "Help on built-in function zeros in module numpy:\n",
      "\n",
      "zeros(...)\n",
      "    zeros(shape, dtype=float, order='C')\n",
      "    \n",
      "    Return a new array of given shape and type, filled with zeros.\n",
      "    \n",
      "    Parameters\n",
      "    ----------\n",
      "    shape : int or tuple of ints\n",
      "        Shape of the new array, e.g., ``(2, 3)`` or ``2``.\n",
      "    dtype : data-type, optional\n",
      "        The desired data-type for the array, e.g., `numpy.int8`.  Default is\n",
      "        `numpy.float64`.\n",
      "    order : {'C', 'F'}, optional, default: 'C'\n",
      "        Whether to store multi-dimensional data in row-major\n",
      "        (C-style) or column-major (Fortran-style) order in\n",
      "        memory.\n",
      "    \n",
      "    Returns\n",
      "    -------\n",
      "    out : ndarray\n",
      "        Array of zeros with the given shape, dtype, and order.\n",
      "    \n",
      "    See Also\n",
      "    --------\n",
      "    zeros_like : Return an array of zeros with shape and type of input.\n",
      "    empty : Return a new uninitialized array.\n",
      "    ones : Return a new array setting values to one.\n",
      "    full : Return a new array of given shape filled with value.\n",
      "    \n",
      "    Examples\n",
      "    --------\n",
      "    >>> np.zeros(5)\n",
      "    array([ 0.,  0.,  0.,  0.,  0.])\n",
      "    \n",
      "    >>> np.zeros((5,), dtype=int)\n",
      "    array([0, 0, 0, 0, 0])\n",
      "    \n",
      "    >>> np.zeros((2, 1))\n",
      "    array([[ 0.],\n",
      "           [ 0.]])\n",
      "    \n",
      "    >>> s = (2,2)\n",
      "    >>> np.zeros(s)\n",
      "    array([[ 0.,  0.],\n",
      "           [ 0.,  0.]])\n",
      "    \n",
      "    >>> np.zeros((2,), dtype=[('x', 'i4'), ('y', 'i4')]) # custom dtype\n",
      "    array([(0, 0), (0, 0)],\n",
      "          dtype=[('x', '<i4'), ('y', '<i4')])\n",
      "\n"
     ]
    }
   ],
   "source": [
    "help(np.zeros)"
   ]
  },
  {
   "cell_type": "code",
   "execution_count": 33,
   "metadata": {},
   "outputs": [
    {
     "data": {
      "text/plain": [
       "array([[0, 0, 0, 0],\n",
       "       [0, 0, 0, 0],\n",
       "       [0, 0, 0, 0]])"
      ]
     },
     "execution_count": 33,
     "metadata": {},
     "output_type": "execute_result"
    }
   ],
   "source": [
    "np.empty((3,4),dtype=int)"
   ]
  },
  {
   "cell_type": "markdown",
   "metadata": {},
   "source": [
    "# sequence generators"
   ]
  },
  {
   "cell_type": "code",
   "execution_count": 39,
   "metadata": {},
   "outputs": [
    {
     "name": "stdout",
     "output_type": "stream",
     "text": [
      "[ 10.  20.  30.  40.  50.  60.  70.  80.  90. 100.]\n",
      "10\n",
      "20\n",
      "30\n",
      "40\n",
      "50\n",
      "60\n",
      "70\n",
      "80\n",
      "90\n",
      "100\n"
     ]
    }
   ],
   "source": [
    "start=10\n",
    "end=100\n",
    "count=10\n",
    "b=np.linspace(start,end,count)\n",
    "print(b)\n",
    "for x in range(10,110,10):\n",
    "    print(x)"
   ]
  },
  {
   "cell_type": "code",
   "execution_count": 40,
   "metadata": {},
   "outputs": [
    {
     "data": {
      "text/plain": [
       "array([0, 2, 4, 6, 8])"
      ]
     },
     "execution_count": 40,
     "metadata": {},
     "output_type": "execute_result"
    }
   ],
   "source": [
    "start=0\n",
    "end=10\n",
    "step=2\n",
    "np.arange(start,end,step)"
   ]
  },
  {
   "cell_type": "code",
   "execution_count": 41,
   "metadata": {},
   "outputs": [
    {
     "data": {
      "text/plain": [
       "array([[-1.01129607,  2.26259399],\n",
       "       [ 1.04465735, -2.08838092]])"
      ]
     },
     "execution_count": 41,
     "metadata": {},
     "output_type": "execute_result"
    }
   ],
   "source": [
    "np.random.standard_normal((2,2))"
   ]
  },
  {
   "cell_type": "code",
   "execution_count": 42,
   "metadata": {},
   "outputs": [
    {
     "data": {
      "text/plain": [
       "(array([[ 0.21344149, -1.7647651 , -0.26293902],\n",
       "        [-0.55637836, -0.72983757,  1.46044673]]),\n",
       " array([[-0.70266054, -0.9974183 , -0.43258187],\n",
       "        [-1.46874196, -0.69485787, -0.06050657]]))"
      ]
     },
     "execution_count": 42,
     "metadata": {},
     "output_type": "execute_result"
    }
   ],
   "source": [
    "a=np.random.standard_normal((2,3))\n",
    "b=np.random.standard_normal((2,3))\n",
    "a,b"
   ]
  },
  {
   "cell_type": "code",
   "execution_count": 43,
   "metadata": {},
   "outputs": [
    {
     "data": {
      "text/plain": [
       "array([[ 0.21344149, -1.7647651 , -0.26293902],\n",
       "       [-0.55637836, -0.72983757,  1.46044673],\n",
       "       [-0.70266054, -0.9974183 , -0.43258187],\n",
       "       [-1.46874196, -0.69485787, -0.06050657]])"
      ]
     },
     "execution_count": 43,
     "metadata": {},
     "output_type": "execute_result"
    }
   ],
   "source": [
    "np.vstack([a,b])"
   ]
  },
  {
   "cell_type": "code",
   "execution_count": 44,
   "metadata": {},
   "outputs": [
    {
     "data": {
      "text/plain": [
       "array([[ 0.21344149, -1.7647651 , -0.26293902],\n",
       "       [-0.55637836, -0.72983757,  1.46044673]])"
      ]
     },
     "execution_count": 44,
     "metadata": {},
     "output_type": "execute_result"
    }
   ],
   "source": [
    "a.transpose()\n",
    "a"
   ]
  },
  {
   "cell_type": "code",
   "execution_count": 45,
   "metadata": {},
   "outputs": [],
   "source": [
    "np.save('myfirstarray.npy',a)"
   ]
  },
  {
   "cell_type": "code",
   "execution_count": null,
   "metadata": {
    "scrolled": true
   },
   "outputs": [],
   "source": [
    "al=np.load('myfirstarray.npy')\n",
    "al"
   ]
  },
  {
   "cell_type": "code",
   "execution_count": null,
   "metadata": {},
   "outputs": [],
   "source": [
    "a=[[1,2],[5,6]]\n",
    "b=[[1,0],[0,1]]\n",
    "np.dot(a,b)"
   ]
  },
  {
   "cell_type": "code",
   "execution_count": null,
   "metadata": {},
   "outputs": [],
   "source": [
    "import numpy as np\n"
   ]
  },
  {
   "cell_type": "code",
   "execution_count": null,
   "metadata": {},
   "outputs": [],
   "source": [
    "a=np.array(range(1,11))\n",
    "b=np.array(range(2001,2011))\n",
    "a,b"
   ]
  },
  {
   "cell_type": "code",
   "execution_count": null,
   "metadata": {},
   "outputs": [],
   "source": [
    "a=np.zeros((3,3))\n",
    "for row in range(3):\n",
    "    for col in range(3):\n",
    "        if(row==col):\n",
    "            a[row][col]=1\n",
    "        print(row,col,a[row][col])\n",
    "a"
   ]
  },
  {
   "cell_type": "code",
   "execution_count": null,
   "metadata": {},
   "outputs": [],
   "source": [
    "##### input from user\n",
    "row=int(input(\"enter the row\"))\n",
    "col=int(input(\"enter the col\"))\n",
    "b=np.empty((row,col))\n",
    "\n",
    "for i in range(row):\n",
    "    for j in range(col):\n",
    "        b[i][j]=int(input(\"enter the row,col value\"))\n",
    "b"
   ]
  },
  {
   "cell_type": "code",
   "execution_count": null,
   "metadata": {},
   "outputs": [],
   "source": [
    "#add two matrix\n",
    "a=np.array([range(5),range(5,10),range(10,15),range(15,20)])\n",
    "a"
   ]
  },
  {
   "cell_type": "markdown",
   "metadata": {},
   "source": [
    "# indexing and slicing"
   ]
  },
  {
   "cell_type": "code",
   "execution_count": null,
   "metadata": {},
   "outputs": [],
   "source": [
    "v=np.linspace(0,10,5)\n",
    "v"
   ]
  },
  {
   "cell_type": "code",
   "execution_count": null,
   "metadata": {},
   "outputs": [],
   "source": [
    "v[0],v[1],v[-1]"
   ]
  },
  {
   "cell_type": "code",
   "execution_count": null,
   "metadata": {},
   "outputs": [],
   "source": [
    "v[2:4]"
   ]
  },
  {
   "cell_type": "code",
   "execution_count": null,
   "metadata": {},
   "outputs": [],
   "source": [
    "vv=np.random.random((5,5))\n",
    "vv*10"
   ]
  },
  {
   "cell_type": "code",
   "execution_count": null,
   "metadata": {},
   "outputs": [],
   "source": [
    "vv[0][0]"
   ]
  },
  {
   "cell_type": "code",
   "execution_count": null,
   "metadata": {},
   "outputs": [],
   "source": [
    "vv[0,0],vv[4,3]"
   ]
  },
  {
   "cell_type": "code",
   "execution_count": null,
   "metadata": {},
   "outputs": [],
   "source": [
    "l1=[[1,2,3],[4,5,6]]\n",
    "l1[0][1]"
   ]
  },
  {
   "cell_type": "code",
   "execution_count": null,
   "metadata": {},
   "outputs": [],
   "source": [
    "vv"
   ]
  },
  {
   "cell_type": "code",
   "execution_count": null,
   "metadata": {},
   "outputs": [],
   "source": [
    "vv[2:5,1]"
   ]
  },
  {
   "cell_type": "code",
   "execution_count": null,
   "metadata": {},
   "outputs": [],
   "source": [
    "vv[2:5,0:3]"
   ]
  },
  {
   "cell_type": "code",
   "execution_count": null,
   "metadata": {},
   "outputs": [],
   "source": [
    "print(v)\n",
    "v2=v[2:4]\n",
    "print(v2)\n",
    "v2[0]=55\n",
    "print(v,v2)"
   ]
  },
  {
   "cell_type": "code",
   "execution_count": null,
   "metadata": {},
   "outputs": [],
   "source": [
    "print(v)\n",
    "v2=v[2:4].copy()\n",
    "print(v2)\n",
    "v2[0]=22\n",
    "print(v,v2)"
   ]
  },
  {
   "cell_type": "markdown",
   "metadata": {},
   "source": [
    "\n",
    "# filtering data"
   ]
  },
  {
   "cell_type": "code",
   "execution_count": null,
   "metadata": {},
   "outputs": [],
   "source": [
    "print(v)\n",
    "v1=v[[1,2,3]]\n",
    "print(v1)"
   ]
  },
  {
   "cell_type": "code",
   "execution_count": null,
   "metadata": {},
   "outputs": [],
   "source": [
    "v>1"
   ]
  },
  {
   "cell_type": "code",
   "execution_count": null,
   "metadata": {},
   "outputs": [],
   "source": [
    "bool_ind=v>5"
   ]
  },
  {
   "cell_type": "code",
   "execution_count": null,
   "metadata": {},
   "outputs": [],
   "source": [
    "v[bool_ind]"
   ]
  },
  {
   "cell_type": "code",
   "execution_count": null,
   "metadata": {},
   "outputs": [],
   "source": [
    "print(vv)\n",
    "vv[vv>.5]"
   ]
  },
  {
   "cell_type": "code",
   "execution_count": null,
   "metadata": {},
   "outputs": [],
   "source": [
    "vv[vv>.5]=1\n",
    "vv"
   ]
  },
  {
   "cell_type": "code",
   "execution_count": null,
   "metadata": {},
   "outputs": [],
   "source": [
    "vals=np.arange(10)\n",
    "#vals=np.array([1,3,5,7,9])\n",
    "print(vals)\n",
    "np.where(vals%3==0)"
   ]
  },
  {
   "cell_type": "code",
   "execution_count": null,
   "metadata": {},
   "outputs": [],
   "source": [
    "vals_new=np.where(vals%2==0,-1,vals)\n",
    "vals_new"
   ]
  },
  {
   "cell_type": "code",
   "execution_count": null,
   "metadata": {},
   "outputs": [],
   "source": [
    "data=np.array([range(5),range(5,10),range(10,15),range(15,20)])\n",
    "data"
   ]
  },
  {
   "cell_type": "markdown",
   "metadata": {},
   "source": [
    "# HW"
   ]
  },
  {
   "cell_type": "code",
   "execution_count": null,
   "metadata": {},
   "outputs": [],
   "source": [
    "##two input from user\n",
    "row=int(input(\"enter the row\"))\n",
    "col=int(input(\"enter the col\"))\n",
    "b=np.empty((row,col))\n",
    "\n",
    "for i in range(row):\n",
    "    for j in range(col):\n",
    "        b[i][j]=int(input(\"enter the row,col value\"))\n",
    "row=int(input(\"enter the row\"))\n",
    "col=int(input(\"enter the col\"))\n",
    "a=np.empty((row,col))\n",
    "\n",
    "for i in range(row):\n",
    "    for j in range(col):\n",
    "        b[i][j]=int(input(\"enter the row,col value\"))\n",
    "a,b"
   ]
  },
  {
   "cell_type": "code",
   "execution_count": null,
   "metadata": {},
   "outputs": [],
   "source": [
    "import numpy as np"
   ]
  },
  {
   "cell_type": "code",
   "execution_count": null,
   "metadata": {},
   "outputs": [],
   "source": [
    "a=data[(data%2!=0)]\n",
    "b=np.where(data%3==0,-1,data)\n",
    "a,b"
   ]
  },
  {
   "cell_type": "code",
   "execution_count": null,
   "metadata": {},
   "outputs": [],
   "source": [
    "#add two matrix\n",
    "a=np.array([range(5),range(5,10),range(10,15),range(15,20)])\n",
    "b=np.array([range(4),range(4,8),range(8,12),range(12,16),range(16,20)])\n",
    "print(a,\"=a\")\n",
    "print(b,\"=b\")\n",
    "c=a.transpose()\n",
    "print(c,\"=c\")\n",
    "d=c.transpose()\n",
    "print(d,\"=d\")\n",
    "e=d==a\n",
    "print(e)"
   ]
  },
  {
   "cell_type": "code",
   "execution_count": null,
   "metadata": {},
   "outputs": [],
   "source": [
    "r=np.arange(0,100,3)\n",
    "r[(r%2==0) | (r%9==0)] #multiple 2 and 9\n",
    "#r[(r%2==0) & (r%9==0)]only multiple 2 and 9\n",
    "\n",
    "r"
   ]
  },
  {
   "cell_type": "code",
   "execution_count": null,
   "metadata": {},
   "outputs": [],
   "source": [
    "import csv\n",
    "\n",
    "temp=[]\n",
    "\n",
    "f=\"weather1week.csv\"\n",
    "with open(f,\"r\")as f:\n",
    "    a=csv.reader(f,delimiter=';')\n",
    "\n",
    "    print(\"start\")\n",
    "    for line in a:\n",
    "       # print(line[5])\n",
    "        temp.append(line[5])\n",
    "temp\n",
    "b=np.array([temp],dtype=float)\n",
    "b  \n",
    "f=b*(9/5)+32\n",
    "f\n"
   ]
  },
  {
   "cell_type": "code",
   "execution_count": null,
   "metadata": {},
   "outputs": [],
   "source": [
    "##age list and year\n",
    "age=np.array([10,20,30,40,50,60,70,80,90,11])\n",
    "for year in range(2010,2021):\n",
    "    age=age+1\n",
    "age"
   ]
  },
  {
   "cell_type": "code",
   "execution_count": null,
   "metadata": {},
   "outputs": [],
   "source": [
    "##5x5 matrix largest number and smallest number\n",
    "a=np.random.random((5,5))\n",
    "a=a*10\n",
    "a\n",
    "n=a.astype(int)\n",
    "n\n",
    "x=n.max()\n",
    "y=n.min()\n",
    "print(x)\n",
    "print(y)\n"
   ]
  },
  {
   "cell_type": "code",
   "execution_count": null,
   "metadata": {},
   "outputs": [],
   "source": [
    "##create a numpy array of marks\n",
    "a=np.random.randint(500,1200,size=20)\n",
    "a\n",
    "b=(a*100)/1200\n",
    "print(b)\n",
    "c=b.max()\n",
    "print(\"first mark\",c)\n",
    "d=b.min()\n",
    "print(\"last mark\",d)"
   ]
  },
  {
   "cell_type": "code",
   "execution_count": null,
   "metadata": {},
   "outputs": [],
   "source": [
    "#creat a numpy array 50 random elements\n",
    "a=np.random.randint(50,size=50)\n",
    "a\n",
    "v=a.min()\n",
    "print(v)\n",
    "m=a.max()\n",
    "print(m)\n",
    "b=(a-v)/(m-v)\n",
    "b\n",
    "print(\"normalized value\",b)"
   ]
  },
  {
   "cell_type": "code",
   "execution_count": null,
   "metadata": {},
   "outputs": [],
   "source": [
    "##read the week file and find the average and hotter and cold \n",
    "import csv\n",
    "temp=[]\n",
    "f=\"weather1week.csv\"\n",
    "with open(f,\"r\")as f:\n",
    "    r=csv.reader(f,delimiter=\";\")\n",
    "    print(\"start\")\n",
    "    for line in r:\n",
    "\n",
    "        temp.append(float(line[5]))\n",
    "temp\n",
    "a=np.array([temp])\n",
    "b=np.mean(a)\n",
    "print(\"average temperature\",b)\n",
    "c=a.max()\n",
    "print(\"hottest temperature\",c)\n",
    "d=a.min()\n",
    "print(\"coldest temperature\",d)\n",
    "e=a(a%24.19791)\n",
    "e\n"
   ]
  },
  {
   "cell_type": "raw",
   "metadata": {},
   "source": [
    "a=input(\"enter the name:\")\n",
    "b=len(a)\n",
    "print(b)"
   ]
  },
  {
   "cell_type": "code",
   "execution_count": null,
   "metadata": {},
   "outputs": [],
   "source": [
    "##reverse the string\n",
    "\n",
    "a=input(\"enter the name\")\n",
    "print(a)\n"
   ]
  },
  {
   "cell_type": "markdown",
   "metadata": {},
   "source": [
    "# some additional snippets"
   ]
  },
  {
   "cell_type": "code",
   "execution_count": null,
   "metadata": {},
   "outputs": [],
   "source": [
    "import numpy as np\n",
    "data=np.array([[1,2,3,4,5],[6,7,8,9,10]],dtype=np.float)\n",
    "data"
   ]
  },
  {
   "cell_type": "code",
   "execution_count": null,
   "metadata": {},
   "outputs": [],
   "source": [
    "data[:,1:4]"
   ]
  },
  {
   "cell_type": "code",
   "execution_count": null,
   "metadata": {},
   "outputs": [],
   "source": [
    "data[::-1]"
   ]
  },
  {
   "cell_type": "code",
   "execution_count": null,
   "metadata": {},
   "outputs": [],
   "source": [
    "data[:,::-1]"
   ]
  },
  {
   "cell_type": "code",
   "execution_count": null,
   "metadata": {},
   "outputs": [],
   "source": [
    "data[::-1,::-1]"
   ]
  },
  {
   "cell_type": "code",
   "execution_count": null,
   "metadata": {},
   "outputs": [],
   "source": [
    "data[0,0]=np.inf\n",
    "data[-1,-1]=np.nan\n",
    "data"
   ]
  },
  {
   "cell_type": "code",
   "execution_count": null,
   "metadata": {},
   "outputs": [],
   "source": [
    "#reshaping\n",
    "reshaped=data.reshape((5,2))\n",
    "reshaped"
   ]
  },
  {
   "cell_type": "code",
   "execution_count": null,
   "metadata": {},
   "outputs": [],
   "source": [
    "flattened=data.flatten()\n",
    "flattened"
   ]
  },
  {
   "cell_type": "code",
   "execution_count": null,
   "metadata": {},
   "outputs": [],
   "source": [
    "#random numbers\n",
    "np.random.rand(3,3)\n"
   ]
  },
  {
   "cell_type": "code",
   "execution_count": null,
   "metadata": {},
   "outputs": [],
   "source": [
    "np.random.randint(0,10,(5,5))"
   ]
  },
  {
   "cell_type": "code",
   "execution_count": null,
   "metadata": {},
   "outputs": [],
   "source": [
    "np.random.choice(['India','China','Australia','Canada','France'],(3,4))"
   ]
  },
  {
   "cell_type": "code",
   "execution_count": null,
   "metadata": {},
   "outputs": [],
   "source": [
    "np.random.seed(5)\n",
    "np.random.choice(['India','China','Australia','Canada','France'],(3,4))"
   ]
  },
  {
   "cell_type": "code",
   "execution_count": null,
   "metadata": {},
   "outputs": [],
   "source": [
    "#consider the set of students\n",
    "names=[\"a\",\"b\",\"c\",\"d\",\"e\",\"f\",\"g\",\"h\",\"i\",\"j\",\"k\",\"l\",\"m\",\"n\",\"o\"]\n",
    "chess=np.random.choice([\"a\",\"b\",\"c\",\"d\",\"e\",\"f\",\"g\",\"h\",\"i\",\"j\",\"k\",\"l\",\"m\",\"n\",\"o\"],(10,5))\n",
    "print(\"chess=\",chess)\n"
   ]
  },
  {
   "cell_type": "markdown",
   "metadata": {},
   "source": [
    "# vectorize"
   ]
  },
  {
   "cell_type": "code",
   "execution_count": null,
   "metadata": {},
   "outputs": [],
   "source": [
    "def calc(a):\n",
    "        if a%2==0:\n",
    "            return a**2\n",
    "        else:\n",
    "            return a-1"
   ]
  },
  {
   "cell_type": "code",
   "execution_count": null,
   "metadata": {},
   "outputs": [],
   "source": [
    "vals=np.array([1,2,3,4,5])\n",
    "calc(vals[0])"
   ]
  },
  {
   "cell_type": "code",
   "execution_count": null,
   "metadata": {},
   "outputs": [],
   "source": [
    "calc(vals)"
   ]
  },
  {
   "cell_type": "code",
   "execution_count": null,
   "metadata": {},
   "outputs": [],
   "source": [
    "v_calc=np.vectorize(calc)\n",
    "v_calc(vals)"
   ]
  },
  {
   "cell_type": "code",
   "execution_count": null,
   "metadata": {},
   "outputs": [],
   "source": [
    "b=np.array([1,2,3,4,5])\n",
    "bin(b[3])"
   ]
  },
  {
   "cell_type": "code",
   "execution_count": null,
   "metadata": {},
   "outputs": [],
   "source": [
    "v_bin=np.vectorize(bin)\n",
    "v_bin(b)"
   ]
  },
  {
   "cell_type": "markdown",
   "metadata": {},
   "source": [
    "# records-using heterogeneous datatypes"
   ]
  },
  {
   "cell_type": "code",
   "execution_count": null,
   "metadata": {},
   "outputs": [],
   "source": [
    "rec=np.array([(1,(95.5,98),'ram'),(2,(100,96.5),'raj')],dtype=[('rollno',np.int32),('marks',np.float16,2),('names',np.str,4)])"
   ]
  },
  {
   "cell_type": "code",
   "execution_count": null,
   "metadata": {},
   "outputs": [],
   "source": [
    "rec"
   ]
  },
  {
   "cell_type": "code",
   "execution_count": null,
   "metadata": {},
   "outputs": [],
   "source": [
    "rec['names']"
   ]
  },
  {
   "cell_type": "code",
   "execution_count": null,
   "metadata": {},
   "outputs": [],
   "source": [
    "rec[0]"
   ]
  },
  {
   "cell_type": "code",
   "execution_count": null,
   "metadata": {},
   "outputs": [],
   "source": [
    "rec['names']"
   ]
  },
  {
   "cell_type": "code",
   "execution_count": null,
   "metadata": {},
   "outputs": [],
   "source": [
    "rec[0]['marks']"
   ]
  },
  {
   "cell_type": "code",
   "execution_count": null,
   "metadata": {},
   "outputs": [],
   "source": [
    "rec['marks'][0]"
   ]
  },
  {
   "cell_type": "code",
   "execution_count": null,
   "metadata": {},
   "outputs": [],
   "source": [
    "schems=np.dtype([('year',np.float16),\n",
    "                ('month',np.float16),\n",
    "                ('day',np.float16),\n",
    "                ('hour',np.float16),\n",
    "                ('minute',np.float16),\n",
    "                 ('temp',np.float16)])\n",
    "np_data=np.loadtxt('weather1week.csv',dtype=schems,delimiter=';')\n",
    "np_data"
   ]
  },
  {
   "cell_type": "code",
   "execution_count": null,
   "metadata": {},
   "outputs": [],
   "source": [
    "np_data[0]"
   ]
  },
  {
   "cell_type": "code",
   "execution_count": null,
   "metadata": {},
   "outputs": [],
   "source": [
    "np_data['temp']"
   ]
  },
  {
   "cell_type": "code",
   "execution_count": null,
   "metadata": {},
   "outputs": [],
   "source": [
    "np_data['temp']=np_data['temp']*(9/5)+32\n",
    "np_data"
   ]
  },
  {
   "cell_type": "code",
   "execution_count": null,
   "metadata": {},
   "outputs": [],
   "source": [
    "schems=np.dtype([('year',np.float16),\n",
    "                 ('month',np.float16),\n",
    "                 ('day',np.float16),\n",
    "                 ('hour',np.float16),\n",
    "                 ('minute',np.float16),\n",
    "                 ('temp',np.float16),\n",
    "                 ('temp1',np.float16)])\n",
    "np_data=np.loadtxt('weatherComp.csv',dtype=schems,delimiter=';')\n",
    "np_data\n",
    "                 "
   ]
  },
  {
   "cell_type": "code",
   "execution_count": null,
   "metadata": {},
   "outputs": [],
   "source": [
    "a=np_data['temp'].max()\n",
    "print(a)\n",
    "b=np_data['temp1'].max()\n",
    "print(b)\n",
    "if(a>b):\n",
    "    print(a,\"2017 is hot\")\n",
    "else:\n",
    "    print(b,\"2018 is hot\")"
   ]
  },
  {
   "cell_type": "code",
   "execution_count": null,
   "metadata": {},
   "outputs": [],
   "source": [
    "#create a array 100 elements \n",
    "a=np.linspace(1,100,num=100,dtype=int)\n",
    "print('a=',a)\n",
    "\n",
    "b=a.reshape((4,25))\n",
    "print('b=',b)"
   ]
  },
  {
   "cell_type": "markdown",
   "metadata": {},
   "source": [
    "\n",
    "# pandas"
   ]
  },
  {
   "cell_type": "code",
   "execution_count": null,
   "metadata": {},
   "outputs": [],
   "source": [
    "import numpy as np\n",
    "import pandas as pd"
   ]
  },
  {
   "cell_type": "code",
   "execution_count": null,
   "metadata": {},
   "outputs": [],
   "source": [
    "schema=np.dtype([('sepal_length',np.float16),('sepal_width',np.float16),('petal_length',np.float16),('petal_width',np.float16),\n",
    "                ('species','<U16')])\n"
   ]
  },
  {
   "cell_type": "code",
   "execution_count": null,
   "metadata": {},
   "outputs": [],
   "source": [
    "np_data=np.loadtxt('iris.csv',dtype=schema,delimiter=',')\n",
    "np_data"
   ]
  },
  {
   "cell_type": "code",
   "execution_count": null,
   "metadata": {},
   "outputs": [],
   "source": [
    "np_data[0]"
   ]
  },
  {
   "cell_type": "code",
   "execution_count": null,
   "metadata": {},
   "outputs": [],
   "source": [
    "np_data['species']"
   ]
  },
  {
   "cell_type": "code",
   "execution_count": null,
   "metadata": {},
   "outputs": [],
   "source": [
    "pd_data=pd.read_csv('iris.csv')\n",
    "pd_data.head()"
   ]
  },
  {
   "cell_type": "code",
   "execution_count": null,
   "metadata": {},
   "outputs": [],
   "source": [
    "pd_data=pd.read_csv('iris.csv',names=['sepal_length','sepal_width','petal_length','petal_width','species'])\n",
    "pd_data.head()"
   ]
  },
  {
   "cell_type": "code",
   "execution_count": null,
   "metadata": {},
   "outputs": [],
   "source": [
    "pd_data.sepal_length"
   ]
  },
  {
   "cell_type": "code",
   "execution_count": null,
   "metadata": {},
   "outputs": [],
   "source": [
    "pd_data=pd.read_csv('iris.csv',usecols=[0,1,4],names=['sepal_length','sepal_width','species'])\n",
    "pd_data.head()\n",
    "#you have header in your file d'not use names"
   ]
  },
  {
   "cell_type": "code",
   "execution_count": null,
   "metadata": {},
   "outputs": [],
   "source": [
    "pd_data.shape"
   ]
  },
  {
   "cell_type": "code",
   "execution_count": null,
   "metadata": {},
   "outputs": [],
   "source": [
    "pd_data.dtypes"
   ]
  },
  {
   "cell_type": "code",
   "execution_count": null,
   "metadata": {},
   "outputs": [],
   "source": [
    "pd_data.get_dtype_counts()"
   ]
  },
  {
   "cell_type": "code",
   "execution_count": null,
   "metadata": {},
   "outputs": [],
   "source": [
    "pd_data.isnull().values.any()"
   ]
  },
  {
   "cell_type": "code",
   "execution_count": null,
   "metadata": {},
   "outputs": [],
   "source": [
    "pd_csv=pd.read_csv('tweets_withHeader.csv')\n",
    "pd_csv.head()"
   ]
  },
  {
   "cell_type": "code",
   "execution_count": null,
   "metadata": {},
   "outputs": [],
   "source": [
    "pd_csv=pd.read_csv('tweets_noHeader.csv',names=['id','polarity','text'])\n",
    "pd_csv.head()"
   ]
  },
  {
   "cell_type": "code",
   "execution_count": null,
   "metadata": {
    "scrolled": true
   },
   "outputs": [],
   "source": [
    "pd_w=pd.read_csv('weather1week.csv',names=['year','month','day','hours','mini','temp'],delimiter=';')\n",
    "pd_w.head()"
   ]
  },
  {
   "cell_type": "markdown",
   "metadata": {},
   "source": [
    "# pandas"
   ]
  },
  {
   "cell_type": "code",
   "execution_count": null,
   "metadata": {},
   "outputs": [],
   "source": [
    "import pandas as pd\n",
    "print(pd.__version__)"
   ]
  },
  {
   "cell_type": "code",
   "execution_count": null,
   "metadata": {},
   "outputs": [],
   "source": [
    "s=pd.Series([0,1,4,9,16,25],name='squares')\n",
    "s"
   ]
  },
  {
   "cell_type": "code",
   "execution_count": null,
   "metadata": {},
   "outputs": [],
   "source": [
    "s.values"
   ]
  },
  {
   "cell_type": "code",
   "execution_count": null,
   "metadata": {},
   "outputs": [],
   "source": [
    "s.index"
   ]
  },
  {
   "cell_type": "code",
   "execution_count": null,
   "metadata": {},
   "outputs": [],
   "source": [
    "s[2]"
   ]
  },
  {
   "cell_type": "code",
   "execution_count": null,
   "metadata": {},
   "outputs": [],
   "source": [
    "s[1:4]"
   ]
  },
  {
   "cell_type": "markdown",
   "metadata": {},
   "source": [
    "# creating DataFrames"
   ]
  },
  {
   "cell_type": "code",
   "execution_count": null,
   "metadata": {},
   "outputs": [],
   "source": [
    "mat=np.arange(0,9).reshape(3,3)\n",
    "mat"
   ]
  },
  {
   "cell_type": "code",
   "execution_count": null,
   "metadata": {
    "scrolled": false
   },
   "outputs": [],
   "source": [
    "pd.DataFrame(mat)"
   ]
  },
  {
   "cell_type": "code",
   "execution_count": null,
   "metadata": {},
   "outputs": [],
   "source": [
    "arr=[(1,'a'),(2,'b'),(3,'b')]\n",
    "pd.DataFrame(arr,columns=['Numbers','Letters'])"
   ]
  },
  {
   "cell_type": "code",
   "execution_count": null,
   "metadata": {},
   "outputs": [],
   "source": [
    "dictDf={'Numbers':[1,2,3],'Letters':['a','b','c']}\n",
    "pd.DataFrame(dictDf)"
   ]
  },
  {
   "cell_type": "code",
   "execution_count": null,
   "metadata": {},
   "outputs": [],
   "source": [
    "dictDf={'Numbers':[1,2,3,4],'Letters':['a','b','c']}\n",
    "pd.DataFrame(dictDf)"
   ]
  },
  {
   "cell_type": "code",
   "execution_count": null,
   "metadata": {},
   "outputs": [],
   "source": [
    "ser1=pd.Series([24,30,10,23,32,60],name='age')\n",
    "ser2=pd.Series(['ram','raj','gowri','shankar'],name='name')\n",
    "pd.DataFrame({\"age\":ser1,\"name\":ser2})"
   ]
  },
  {
   "cell_type": "code",
   "execution_count": null,
   "metadata": {},
   "outputs": [],
   "source": [
    "pd.DataFrame([ser1,ser2])"
   ]
  },
  {
   "cell_type": "code",
   "execution_count": null,
   "metadata": {},
   "outputs": [],
   "source": [
    "pd.DataFrame([ser1,ser2]).T"
   ]
  },
  {
   "cell_type": "code",
   "execution_count": null,
   "metadata": {},
   "outputs": [],
   "source": [
    "a=[2,4,6,8,10]\n",
    "pd.DataFrame(a)"
   ]
  },
  {
   "cell_type": "code",
   "execution_count": null,
   "metadata": {},
   "outputs": [],
   "source": [
    "s1=pd.Series(['sivaji','kgf','kabali','bagubali','ranimurugan'],name='Moviesnames')\n",
    "s2=pd.Series(['rajini','yash','rajini','birabas','sivakarthikavayan'],name='lead male')\n",
    "s3=pd.Series(['aasin','--------','abx','aanuska','karithisuresh'],name='lead female')\n",
    "s4=pd.Series(['1','1','1','1','1'],name='remark')\n",
    "pd.DataFrame([s1,s2,s3,s4]).T"
   ]
  },
  {
   "cell_type": "code",
   "execution_count": null,
   "metadata": {},
   "outputs": [],
   "source": [
    "age=pd.DataFrame([ser1,ser2]).T\n",
    "age"
   ]
  },
  {
   "cell_type": "code",
   "execution_count": null,
   "metadata": {},
   "outputs": [],
   "source": [
    "age['app_range']=[1 if a<=15 else 2 if 15<a<50 else 3 for a in age['age']]\n",
    "age"
   ]
  },
  {
   "cell_type": "code",
   "execution_count": null,
   "metadata": {},
   "outputs": [],
   "source": [
    "age.append(pd.DataFrame({'age':pd.Series(31),'name':pd.Series('GOWRI'),'age_range':pd.Series(2)}))\n",
    "\n"
   ]
  },
  {
   "cell_type": "code",
   "execution_count": null,
   "metadata": {},
   "outputs": [],
   "source": [
    "a=[2,4,6,8,10,12]\n",
    "pd.DataFrame(a)"
   ]
  },
  {
   "cell_type": "code",
   "execution_count": null,
   "metadata": {},
   "outputs": [],
   "source": [
    "a['3m']=[1 if b/3 else 0 for b in a['a']]\n",
    "a"
   ]
  },
  {
   "cell_type": "code",
   "execution_count": null,
   "metadata": {},
   "outputs": [],
   "source": []
  }
 ],
 "metadata": {
  "kernelspec": {
   "display_name": "Python 3",
   "language": "python",
   "name": "python3"
  },
  "language_info": {
   "codemirror_mode": {
    "name": "ipython",
    "version": 3
   },
   "file_extension": ".py",
   "mimetype": "text/x-python",
   "name": "python",
   "nbconvert_exporter": "python",
   "pygments_lexer": "ipython3",
   "version": "3.7.3"
  }
 },
 "nbformat": 4,
 "nbformat_minor": 2
}
