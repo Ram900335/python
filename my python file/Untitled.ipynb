{
 "cells": [
  {
   "cell_type": "code",
   "execution_count": 2,
   "metadata": {},
   "outputs": [],
   "source": [
    "import pandas as pd\n",
    "import numpy as np\n",
    "from sklearn import ensemble\n",
    "from sklearn.metrics import mean_absolute_error\n",
    "#df['holiday'].unique()"
   ]
  },
  {
   "cell_type": "code",
   "execution_count": 41,
   "metadata": {},
   "outputs": [
    {
     "name": "stderr",
     "output_type": "stream",
     "text": [
      "C:\\Users\\gowri\\Anaconda3\\lib\\site-packages\\ipykernel_launcher.py:31: FutureWarning: Method .as_matrix will be removed in a future version. Use .values instead.\n",
      "C:\\Users\\gowri\\Anaconda3\\lib\\site-packages\\ipykernel_launcher.py:32: FutureWarning: Method .as_matrix will be removed in a future version. Use .values instead.\n"
     ]
    },
    {
     "data": {
      "text/plain": [
       "(array([[15.13, 40.  ,  2.  , ...,  0.  ,  1.  ,  0.  ],\n",
       "        [16.21, 75.  ,  2.  , ...,  0.  ,  1.  ,  0.  ],\n",
       "        [16.43, 90.  ,  2.  , ...,  0.  ,  1.  ,  0.  ],\n",
       "        ...,\n",
       "        [-4.93, 90.  , 31.  , ...,  0.  ,  0.  ,  1.  ],\n",
       "        [-4.25, 75.  , 31.  , ...,  0.  ,  0.  ,  1.  ],\n",
       "        [-3.67, 90.  , 31.  , ...,  0.  ,  0.  ,  1.  ]]),\n",
       " array([5545, 4516, 4767, ..., 2921, 2557, 1857], dtype=int64))"
      ]
     },
     "execution_count": 41,
     "metadata": {},
     "output_type": "execute_result"
    }
   ],
   "source": [
    "df=pd.read_csv(\"train_METRO.csv\")\n",
    "df['date']=pd.to_datetime(df['Date']).dt.day\n",
    "df['month']=pd.to_datetime(df['Date']).dt.month\n",
    "df['hour']=pd.to_datetime(df['Time']).dt.hour\n",
    "\n",
    "df['is_monthstart']=pd.to_datetime(df['date_time']).dt.is_month_start\n",
    "df['is_monthend']=pd.to_datetime(df['date_time']).dt.is_month_end\n",
    "df['Weekday_Name']=pd.to_datetime(df['date_time']).dt.weekday_name\n",
    "df['Week_end']=df['Weekday_Name'].apply(lambda x:1 if x=='Saturday' or x==\"Sunday\" else 0)\n",
    "\n",
    "df['temp']=df['temp']-273.15\n",
    "\n",
    "del df['Unnamed: 0']\n",
    "del df['Date']\n",
    "del df['date_time']\n",
    "del df['weather_description']\n",
    "del df['rain_1h']\n",
    "del df['snow_1h']\n",
    "del df['Year']\n",
    "del df['Time']\n",
    "\n",
    "df['is_E_M']=df['hour'].apply(lambda x:1 if x>=3 and x>=6 else 0)\n",
    "df['is_M']=df['hour'].apply(lambda x:1 if x>=7 and x>=11 else 0)\n",
    "df['is_A_N']=df['hour'].apply(lambda x:1 if x>=12 and x>=15 else 0)\n",
    "df['is_E']=df['hour'].apply(lambda x:1 if x>=15 and x>=19 else 0)\n",
    "df['is_N']=df['hour'].apply(lambda x:1 if x>=19 and x>=23 else 0)\n",
    "df['is_M_N']=df['hour'].apply(lambda x:1 if x>=23 and x>=2 else 0)\n",
    "f_df=pd.get_dummies(df, columns=['weather_main','holiday','Weekday_Name','is_monthstart','is_monthend'])\n",
    "\n",
    "del f_df['traffic_volume']\n",
    "x=f_df.as_matrix()\n",
    "y=df['traffic_volume'].as_matrix()\n",
    "\n",
    "x,y\n",
    "#df.head()"
   ]
  },
  {
   "cell_type": "code",
   "execution_count": 1,
   "metadata": {},
   "outputs": [
    {
     "ename": "SyntaxError",
     "evalue": "invalid syntax (<ipython-input-1-41fa34c1f580>, line 10)",
     "output_type": "error",
     "traceback": [
      "\u001b[1;36m  File \u001b[1;32m\"<ipython-input-1-41fa34c1f580>\"\u001b[1;36m, line \u001b[1;32m10\u001b[0m\n\u001b[1;33m    df['is_winiter']=df['month'].apply(lambda x=1 if x>=1 and x>=3 else 0 )\u001b[0m\n\u001b[1;37m                                                                          ^\u001b[0m\n\u001b[1;31mSyntaxError\u001b[0m\u001b[1;31m:\u001b[0m invalid syntax\n"
     ]
    }
   ],
   "source": [
    "#Winter in New York City\n",
    "#January in NYC | February in NYC | March in NYC\n",
    "#Spring in New York City\n",
    "#April in NYC | May in NYC | June in NYC\n",
    "#Summer in the City Guide\n",
    "#June in NYC | July in NYC | August in NYC\n",
    "#Fall in NYC\n",
    "#September in NYC | October in NYC | November in NYC\n",
    "df['month']\n",
    "df['is_winiter']=df['month'].apply(lambda x=1 if x>=1 and x>=3 else 0 )\n",
    "df['is_winiter']\n",
    "#df[(df['month']==1)]"
   ]
  },
  {
   "cell_type": "code",
   "execution_count": 15,
   "metadata": {},
   "outputs": [
    {
     "data": {
      "text/plain": [
       "(3230.8092748735244, 3313.5, 0    356\n",
       " dtype: int64)"
      ]
     },
     "execution_count": 15,
     "metadata": {},
     "output_type": "execute_result"
    }
   ],
   "source": [
    "a=df.loc[:,\"traffic_volume\"].mean()\n",
    "b=df.loc[:,\"traffic_volume\"].median()\n",
    "c=df.loc[:,\"traffic_volume\"].mode()\n",
    "\n",
    "a,b,c"
   ]
  },
  {
   "cell_type": "code",
   "execution_count": 42,
   "metadata": {},
   "outputs": [
    {
     "data": {
      "text/plain": [
       "GradientBoostingRegressor(alpha=0.9, criterion='friedman_mse', init=None,\n",
       "             learning_rate=0.1, loss='huber', max_depth=6,\n",
       "             max_features=0.1, max_leaf_nodes=None,\n",
       "             min_impurity_decrease=0.0, min_impurity_split=None,\n",
       "             min_samples_leaf=9, min_samples_split=2,\n",
       "             min_weight_fraction_leaf=0.0, n_estimators=1000,\n",
       "             n_iter_no_change=None, presort='auto', random_state=0,\n",
       "             subsample=1.0, tol=0.0001, validation_fraction=0.1, verbose=0,\n",
       "             warm_start=False)"
      ]
     },
     "execution_count": 42,
     "metadata": {},
     "output_type": "execute_result"
    }
   ],
   "source": [
    "model = ensemble.GradientBoostingRegressor(\n",
    "    n_estimators=1000,\n",
    "    learning_rate=0.1,\n",
    "    max_depth=6,\n",
    "    min_samples_leaf=9,\n",
    "    max_features=0.1,\n",
    "    loss='huber',\n",
    "    random_state=0\n",
    ")\n",
    "model.fit(x,y)"
   ]
  },
  {
   "cell_type": "code",
   "execution_count": 43,
   "metadata": {},
   "outputs": [
    {
     "name": "stderr",
     "output_type": "stream",
     "text": [
      "C:\\Users\\gowri\\Anaconda3\\lib\\site-packages\\ipykernel_launcher.py:32: FutureWarning: Method .as_matrix will be removed in a future version. Use .values instead.\n",
      "C:\\Users\\gowri\\Anaconda3\\lib\\site-packages\\ipykernel_launcher.py:33: FutureWarning: Method .as_matrix will be removed in a future version. Use .values instead.\n"
     ]
    },
    {
     "data": {
      "text/plain": [
       "(array([[-3.400e+00,  7.500e+01,  1.848e+03, ...,  1.000e+00,  1.000e+00,\n",
       "          0.000e+00],\n",
       "        [-3.200e+00,  1.000e+00,  1.806e+03, ...,  1.000e+00,  1.000e+00,\n",
       "          0.000e+00],\n",
       "        [-3.400e+00,  1.000e+00,  1.211e+03, ...,  1.000e+00,  1.000e+00,\n",
       "          0.000e+00],\n",
       "        ...,\n",
       "        [ 9.580e+00,  9.000e+01,  2.159e+03, ...,  0.000e+00,  0.000e+00,\n",
       "          1.000e+00],\n",
       "        [ 8.940e+00,  9.000e+01,  1.450e+03, ...,  0.000e+00,  0.000e+00,\n",
       "          1.000e+00],\n",
       "        [ 8.970e+00,  9.000e+01,  9.540e+02, ...,  0.000e+00,  0.000e+00,\n",
       "          1.000e+00]]),\n",
       " array([1848, 1806, 1211, ..., 2159, 1450,  954], dtype=int64))"
      ]
     },
     "execution_count": 43,
     "metadata": {},
     "output_type": "execute_result"
    }
   ],
   "source": [
    "#test\n",
    "df1=pd.read_csv(\"test_METRO.csv\")\n",
    "\n",
    "df1['date']=pd.to_datetime(df1['Date']).dt.day\n",
    "df1['month']=pd.to_datetime(df1['Date']).dt.month\n",
    "df1['hour']=pd.to_datetime(df1['Time']).dt.hour\n",
    "\n",
    "df1['is_monthstart']=pd.to_datetime(df1['date_time']).dt.is_month_start\n",
    "df1['is_monthend']=pd.to_datetime(df1['date_time']).dt.is_month_end\n",
    "df1['Weekday_Name']=pd.to_datetime(df1['date_time']).dt.weekday_name\n",
    "df1['Week_end']=df1['Weekday_Name'].apply(lambda x:1 if x=='Saturday' or x==\"Sunday\" else 0)\n",
    "\n",
    "df1['temp']=df1['temp']-273.15\n",
    "\n",
    "del df1['Unnamed: 0']\n",
    "del df1['rain_1h']\n",
    "del df1['snow_1h']\n",
    "del df1['date_time']\n",
    "del df1['weather_description']\n",
    "del df1['Time']\n",
    "del df1['Date']\n",
    "df1['is_E_M']=df1['hour'].apply(lambda x:1 if x>=3 and x>=6 else 0)\n",
    "df1['is_M']=df1['hour'].apply(lambda x:1 if x>=7 and x>=11 else 0)\n",
    "df1['is_A_N']=df1['hour'].apply(lambda x:1 if x>=12 and x>=15 else 0)\n",
    "df1['is_E']=df1['hour'].apply(lambda x:1 if x>=15 and x>=19 else 0)\n",
    "df1['is_N']=df1['hour'].apply(lambda x:1 if x>=19 and x>=23 else 0)\n",
    "df1['is_M_N']=df1['hour'].apply(lambda x:1 if x>=23 and x>=2 else 0)\n",
    "\n",
    "\n",
    "f_df1=pd.get_dummies(df1, columns=['weather_main','holiday','Weekday_Name','is_monthstart','is_monthend'])\n",
    "\n",
    "x1=f_df1.as_matrix()\n",
    "y1=df1['traffic_volume'].as_matrix()\n",
    "\n",
    "x1,y1"
   ]
  },
  {
   "cell_type": "code",
   "execution_count": 44,
   "metadata": {},
   "outputs": [
    {
     "data": {
      "text/plain": [
       "GradientBoostingRegressor(alpha=0.9, criterion='friedman_mse', init=None,\n",
       "             learning_rate=0.1, loss='huber', max_depth=6,\n",
       "             max_features=0.1, max_leaf_nodes=None,\n",
       "             min_impurity_decrease=0.0, min_impurity_split=None,\n",
       "             min_samples_leaf=9, min_samples_split=2,\n",
       "             min_weight_fraction_leaf=0.0, n_estimators=1000,\n",
       "             n_iter_no_change=None, presort='auto', random_state=0,\n",
       "             subsample=1.0, tol=0.0001, validation_fraction=0.1, verbose=0,\n",
       "             warm_start=False)"
      ]
     },
     "execution_count": 44,
     "metadata": {},
     "output_type": "execute_result"
    }
   ],
   "source": [
    "model1 = ensemble.GradientBoostingRegressor(\n",
    "    n_estimators=1000,\n",
    "    learning_rate=0.1,\n",
    "    max_depth=6,\n",
    "    min_samples_leaf=9,\n",
    "    max_features=0.1,\n",
    "    loss='huber',\n",
    "    random_state=0\n",
    ")\n",
    "model1.fit(x1,y1)"
   ]
  },
  {
   "cell_type": "code",
   "execution_count": 45,
   "metadata": {},
   "outputs": [
    {
     "name": "stdout",
     "output_type": "stream",
     "text": [
      "Training Set Mean Absolute Error: 208.8415\n",
      "Test Set Mean Absolute Error: 35.1282\n"
     ]
    }
   ],
   "source": [
    "# Find the error rate on the training set\n",
    "mae = mean_absolute_error(y, model.predict(x))\n",
    "print(\"Training Set Mean Absolute Error: %.4f\" % mae)\n",
    "\n",
    "# Find the error rate on the test set\n",
    "mae = mean_absolute_error(y1, model1.predict(x1))\n",
    "print(\"Test Set Mean Absolute Error: %.4f\" % mae)\n"
   ]
  },
  {
   "cell_type": "code",
   "execution_count": null,
   "metadata": {},
   "outputs": [],
   "source": [
    "from sklearn.ensemble import RandomForestRegressor\n",
    "\n",
    "reg = RandomForestRegressor()\n",
    "reg.fit(x,y)\n",
    "pred=reg.predict(x1)\n",
    "mse = mean_absolute_error(y1,pred)\n",
    "print(\"Mean Absolute Error : %.4f\" % mse)"
   ]
  },
  {
   "cell_type": "code",
   "execution_count": null,
   "metadata": {},
   "outputs": [],
   "source": []
  }
 ],
 "metadata": {
  "kernelspec": {
   "display_name": "Python 3",
   "language": "python",
   "name": "python3"
  },
  "language_info": {
   "codemirror_mode": {
    "name": "ipython",
    "version": 3
   },
   "file_extension": ".py",
   "mimetype": "text/x-python",
   "name": "python",
   "nbconvert_exporter": "python",
   "pygments_lexer": "ipython3",
   "version": "3.7.3"
  }
 },
 "nbformat": 4,
 "nbformat_minor": 2
}
